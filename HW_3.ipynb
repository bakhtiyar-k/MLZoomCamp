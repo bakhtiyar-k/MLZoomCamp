{
 "cells": [
  {
   "cell_type": "code",
   "execution_count": 1,
   "id": "e72b690a",
   "metadata": {},
   "outputs": [],
   "source": [
    "import numpy as np\n",
    "import pandas as pd"
   ]
  },
  {
   "cell_type": "code",
   "execution_count": 2,
   "id": "c97fde65",
   "metadata": {},
   "outputs": [
    {
     "data": {
      "text/html": [
       "<div>\n",
       "<style scoped>\n",
       "    .dataframe tbody tr th:only-of-type {\n",
       "        vertical-align: middle;\n",
       "    }\n",
       "\n",
       "    .dataframe tbody tr th {\n",
       "        vertical-align: top;\n",
       "    }\n",
       "\n",
       "    .dataframe thead th {\n",
       "        text-align: right;\n",
       "    }\n",
       "</style>\n",
       "<table border=\"1\" class=\"dataframe\">\n",
       "  <thead>\n",
       "    <tr style=\"text-align: right;\">\n",
       "      <th></th>\n",
       "      <th>Make</th>\n",
       "      <th>Model</th>\n",
       "      <th>Year</th>\n",
       "      <th>Engine Fuel Type</th>\n",
       "      <th>Engine HP</th>\n",
       "      <th>Engine Cylinders</th>\n",
       "      <th>Transmission Type</th>\n",
       "      <th>Driven_Wheels</th>\n",
       "      <th>Number of Doors</th>\n",
       "      <th>Market Category</th>\n",
       "      <th>Vehicle Size</th>\n",
       "      <th>Vehicle Style</th>\n",
       "      <th>highway MPG</th>\n",
       "      <th>city mpg</th>\n",
       "      <th>Popularity</th>\n",
       "      <th>MSRP</th>\n",
       "    </tr>\n",
       "  </thead>\n",
       "  <tbody>\n",
       "    <tr>\n",
       "      <th>0</th>\n",
       "      <td>BMW</td>\n",
       "      <td>1 Series M</td>\n",
       "      <td>2011</td>\n",
       "      <td>premium unleaded (required)</td>\n",
       "      <td>335.0</td>\n",
       "      <td>6.0</td>\n",
       "      <td>MANUAL</td>\n",
       "      <td>rear wheel drive</td>\n",
       "      <td>2.0</td>\n",
       "      <td>Factory Tuner,Luxury,High-Performance</td>\n",
       "      <td>Compact</td>\n",
       "      <td>Coupe</td>\n",
       "      <td>26</td>\n",
       "      <td>19</td>\n",
       "      <td>3916</td>\n",
       "      <td>46135</td>\n",
       "    </tr>\n",
       "    <tr>\n",
       "      <th>1</th>\n",
       "      <td>BMW</td>\n",
       "      <td>1 Series</td>\n",
       "      <td>2011</td>\n",
       "      <td>premium unleaded (required)</td>\n",
       "      <td>300.0</td>\n",
       "      <td>6.0</td>\n",
       "      <td>MANUAL</td>\n",
       "      <td>rear wheel drive</td>\n",
       "      <td>2.0</td>\n",
       "      <td>Luxury,Performance</td>\n",
       "      <td>Compact</td>\n",
       "      <td>Convertible</td>\n",
       "      <td>28</td>\n",
       "      <td>19</td>\n",
       "      <td>3916</td>\n",
       "      <td>40650</td>\n",
       "    </tr>\n",
       "    <tr>\n",
       "      <th>2</th>\n",
       "      <td>BMW</td>\n",
       "      <td>1 Series</td>\n",
       "      <td>2011</td>\n",
       "      <td>premium unleaded (required)</td>\n",
       "      <td>300.0</td>\n",
       "      <td>6.0</td>\n",
       "      <td>MANUAL</td>\n",
       "      <td>rear wheel drive</td>\n",
       "      <td>2.0</td>\n",
       "      <td>Luxury,High-Performance</td>\n",
       "      <td>Compact</td>\n",
       "      <td>Coupe</td>\n",
       "      <td>28</td>\n",
       "      <td>20</td>\n",
       "      <td>3916</td>\n",
       "      <td>36350</td>\n",
       "    </tr>\n",
       "    <tr>\n",
       "      <th>3</th>\n",
       "      <td>BMW</td>\n",
       "      <td>1 Series</td>\n",
       "      <td>2011</td>\n",
       "      <td>premium unleaded (required)</td>\n",
       "      <td>230.0</td>\n",
       "      <td>6.0</td>\n",
       "      <td>MANUAL</td>\n",
       "      <td>rear wheel drive</td>\n",
       "      <td>2.0</td>\n",
       "      <td>Luxury,Performance</td>\n",
       "      <td>Compact</td>\n",
       "      <td>Coupe</td>\n",
       "      <td>28</td>\n",
       "      <td>18</td>\n",
       "      <td>3916</td>\n",
       "      <td>29450</td>\n",
       "    </tr>\n",
       "    <tr>\n",
       "      <th>4</th>\n",
       "      <td>BMW</td>\n",
       "      <td>1 Series</td>\n",
       "      <td>2011</td>\n",
       "      <td>premium unleaded (required)</td>\n",
       "      <td>230.0</td>\n",
       "      <td>6.0</td>\n",
       "      <td>MANUAL</td>\n",
       "      <td>rear wheel drive</td>\n",
       "      <td>2.0</td>\n",
       "      <td>Luxury</td>\n",
       "      <td>Compact</td>\n",
       "      <td>Convertible</td>\n",
       "      <td>28</td>\n",
       "      <td>18</td>\n",
       "      <td>3916</td>\n",
       "      <td>34500</td>\n",
       "    </tr>\n",
       "    <tr>\n",
       "      <th>...</th>\n",
       "      <td>...</td>\n",
       "      <td>...</td>\n",
       "      <td>...</td>\n",
       "      <td>...</td>\n",
       "      <td>...</td>\n",
       "      <td>...</td>\n",
       "      <td>...</td>\n",
       "      <td>...</td>\n",
       "      <td>...</td>\n",
       "      <td>...</td>\n",
       "      <td>...</td>\n",
       "      <td>...</td>\n",
       "      <td>...</td>\n",
       "      <td>...</td>\n",
       "      <td>...</td>\n",
       "      <td>...</td>\n",
       "    </tr>\n",
       "    <tr>\n",
       "      <th>11909</th>\n",
       "      <td>Acura</td>\n",
       "      <td>ZDX</td>\n",
       "      <td>2012</td>\n",
       "      <td>premium unleaded (required)</td>\n",
       "      <td>300.0</td>\n",
       "      <td>6.0</td>\n",
       "      <td>AUTOMATIC</td>\n",
       "      <td>all wheel drive</td>\n",
       "      <td>4.0</td>\n",
       "      <td>Crossover,Hatchback,Luxury</td>\n",
       "      <td>Midsize</td>\n",
       "      <td>4dr Hatchback</td>\n",
       "      <td>23</td>\n",
       "      <td>16</td>\n",
       "      <td>204</td>\n",
       "      <td>46120</td>\n",
       "    </tr>\n",
       "    <tr>\n",
       "      <th>11910</th>\n",
       "      <td>Acura</td>\n",
       "      <td>ZDX</td>\n",
       "      <td>2012</td>\n",
       "      <td>premium unleaded (required)</td>\n",
       "      <td>300.0</td>\n",
       "      <td>6.0</td>\n",
       "      <td>AUTOMATIC</td>\n",
       "      <td>all wheel drive</td>\n",
       "      <td>4.0</td>\n",
       "      <td>Crossover,Hatchback,Luxury</td>\n",
       "      <td>Midsize</td>\n",
       "      <td>4dr Hatchback</td>\n",
       "      <td>23</td>\n",
       "      <td>16</td>\n",
       "      <td>204</td>\n",
       "      <td>56670</td>\n",
       "    </tr>\n",
       "    <tr>\n",
       "      <th>11911</th>\n",
       "      <td>Acura</td>\n",
       "      <td>ZDX</td>\n",
       "      <td>2012</td>\n",
       "      <td>premium unleaded (required)</td>\n",
       "      <td>300.0</td>\n",
       "      <td>6.0</td>\n",
       "      <td>AUTOMATIC</td>\n",
       "      <td>all wheel drive</td>\n",
       "      <td>4.0</td>\n",
       "      <td>Crossover,Hatchback,Luxury</td>\n",
       "      <td>Midsize</td>\n",
       "      <td>4dr Hatchback</td>\n",
       "      <td>23</td>\n",
       "      <td>16</td>\n",
       "      <td>204</td>\n",
       "      <td>50620</td>\n",
       "    </tr>\n",
       "    <tr>\n",
       "      <th>11912</th>\n",
       "      <td>Acura</td>\n",
       "      <td>ZDX</td>\n",
       "      <td>2013</td>\n",
       "      <td>premium unleaded (recommended)</td>\n",
       "      <td>300.0</td>\n",
       "      <td>6.0</td>\n",
       "      <td>AUTOMATIC</td>\n",
       "      <td>all wheel drive</td>\n",
       "      <td>4.0</td>\n",
       "      <td>Crossover,Hatchback,Luxury</td>\n",
       "      <td>Midsize</td>\n",
       "      <td>4dr Hatchback</td>\n",
       "      <td>23</td>\n",
       "      <td>16</td>\n",
       "      <td>204</td>\n",
       "      <td>50920</td>\n",
       "    </tr>\n",
       "    <tr>\n",
       "      <th>11913</th>\n",
       "      <td>Lincoln</td>\n",
       "      <td>Zephyr</td>\n",
       "      <td>2006</td>\n",
       "      <td>regular unleaded</td>\n",
       "      <td>221.0</td>\n",
       "      <td>6.0</td>\n",
       "      <td>AUTOMATIC</td>\n",
       "      <td>front wheel drive</td>\n",
       "      <td>4.0</td>\n",
       "      <td>Luxury</td>\n",
       "      <td>Midsize</td>\n",
       "      <td>Sedan</td>\n",
       "      <td>26</td>\n",
       "      <td>17</td>\n",
       "      <td>61</td>\n",
       "      <td>28995</td>\n",
       "    </tr>\n",
       "  </tbody>\n",
       "</table>\n",
       "<p>11914 rows × 16 columns</p>\n",
       "</div>"
      ],
      "text/plain": [
       "          Make       Model  Year                Engine Fuel Type  Engine HP  \\\n",
       "0          BMW  1 Series M  2011     premium unleaded (required)      335.0   \n",
       "1          BMW    1 Series  2011     premium unleaded (required)      300.0   \n",
       "2          BMW    1 Series  2011     premium unleaded (required)      300.0   \n",
       "3          BMW    1 Series  2011     premium unleaded (required)      230.0   \n",
       "4          BMW    1 Series  2011     premium unleaded (required)      230.0   \n",
       "...        ...         ...   ...                             ...        ...   \n",
       "11909    Acura         ZDX  2012     premium unleaded (required)      300.0   \n",
       "11910    Acura         ZDX  2012     premium unleaded (required)      300.0   \n",
       "11911    Acura         ZDX  2012     premium unleaded (required)      300.0   \n",
       "11912    Acura         ZDX  2013  premium unleaded (recommended)      300.0   \n",
       "11913  Lincoln      Zephyr  2006                regular unleaded      221.0   \n",
       "\n",
       "       Engine Cylinders Transmission Type      Driven_Wheels  Number of Doors  \\\n",
       "0                   6.0            MANUAL   rear wheel drive              2.0   \n",
       "1                   6.0            MANUAL   rear wheel drive              2.0   \n",
       "2                   6.0            MANUAL   rear wheel drive              2.0   \n",
       "3                   6.0            MANUAL   rear wheel drive              2.0   \n",
       "4                   6.0            MANUAL   rear wheel drive              2.0   \n",
       "...                 ...               ...                ...              ...   \n",
       "11909               6.0         AUTOMATIC    all wheel drive              4.0   \n",
       "11910               6.0         AUTOMATIC    all wheel drive              4.0   \n",
       "11911               6.0         AUTOMATIC    all wheel drive              4.0   \n",
       "11912               6.0         AUTOMATIC    all wheel drive              4.0   \n",
       "11913               6.0         AUTOMATIC  front wheel drive              4.0   \n",
       "\n",
       "                             Market Category Vehicle Size  Vehicle Style  \\\n",
       "0      Factory Tuner,Luxury,High-Performance      Compact          Coupe   \n",
       "1                         Luxury,Performance      Compact    Convertible   \n",
       "2                    Luxury,High-Performance      Compact          Coupe   \n",
       "3                         Luxury,Performance      Compact          Coupe   \n",
       "4                                     Luxury      Compact    Convertible   \n",
       "...                                      ...          ...            ...   \n",
       "11909             Crossover,Hatchback,Luxury      Midsize  4dr Hatchback   \n",
       "11910             Crossover,Hatchback,Luxury      Midsize  4dr Hatchback   \n",
       "11911             Crossover,Hatchback,Luxury      Midsize  4dr Hatchback   \n",
       "11912             Crossover,Hatchback,Luxury      Midsize  4dr Hatchback   \n",
       "11913                                 Luxury      Midsize          Sedan   \n",
       "\n",
       "       highway MPG  city mpg  Popularity   MSRP  \n",
       "0               26        19        3916  46135  \n",
       "1               28        19        3916  40650  \n",
       "2               28        20        3916  36350  \n",
       "3               28        18        3916  29450  \n",
       "4               28        18        3916  34500  \n",
       "...            ...       ...         ...    ...  \n",
       "11909           23        16         204  46120  \n",
       "11910           23        16         204  56670  \n",
       "11911           23        16         204  50620  \n",
       "11912           23        16         204  50920  \n",
       "11913           26        17          61  28995  \n",
       "\n",
       "[11914 rows x 16 columns]"
      ]
     },
     "execution_count": 2,
     "metadata": {},
     "output_type": "execute_result"
    }
   ],
   "source": [
    "data = pd.read_csv(\"https://raw.githubusercontent.com/alexeygrigorev/mlbookcamp-code/master/chapter-02-car-price/data.csv\")\n",
    "data"
   ]
  },
  {
   "cell_type": "code",
   "execution_count": 3,
   "id": "8cd8ad5f",
   "metadata": {},
   "outputs": [
    {
     "data": {
      "text/plain": [
       "Index(['Make', 'Model', 'Year', 'Engine Fuel Type', 'Engine HP',\n",
       "       'Engine Cylinders', 'Transmission Type', 'Driven_Wheels',\n",
       "       'Number of Doors', 'Market Category', 'Vehicle Size', 'Vehicle Style',\n",
       "       'highway MPG', 'city mpg', 'Popularity', 'MSRP'],\n",
       "      dtype='object')"
      ]
     },
     "execution_count": 3,
     "metadata": {},
     "output_type": "execute_result"
    }
   ],
   "source": [
    "data.columns"
   ]
  },
  {
   "cell_type": "code",
   "execution_count": 4,
   "id": "b9331344",
   "metadata": {},
   "outputs": [],
   "source": [
    "data = data[['Make', 'Model', 'Year', 'Engine HP', 'Engine Cylinders', 'Transmission Type', 'Vehicle Style',\n",
    "           'highway MPG', 'city mpg', 'MSRP']]"
   ]
  },
  {
   "cell_type": "code",
   "execution_count": 5,
   "id": "24cbf76d",
   "metadata": {},
   "outputs": [],
   "source": [
    "data.columns = data.columns.str.replace(' ', '_').str.lower()"
   ]
  },
  {
   "cell_type": "code",
   "execution_count": 6,
   "id": "01283e1f",
   "metadata": {},
   "outputs": [
    {
     "data": {
      "text/plain": [
       "make                  0\n",
       "model                 0\n",
       "year                  0\n",
       "engine_hp            69\n",
       "engine_cylinders     30\n",
       "transmission_type     0\n",
       "vehicle_style         0\n",
       "highway_mpg           0\n",
       "city_mpg              0\n",
       "msrp                  0\n",
       "dtype: int64"
      ]
     },
     "execution_count": 6,
     "metadata": {},
     "output_type": "execute_result"
    }
   ],
   "source": [
    "data.isnull().sum()"
   ]
  },
  {
   "cell_type": "code",
   "execution_count": 7,
   "id": "3fcf40fb",
   "metadata": {},
   "outputs": [
    {
     "data": {
      "text/html": [
       "<div>\n",
       "<style scoped>\n",
       "    .dataframe tbody tr th:only-of-type {\n",
       "        vertical-align: middle;\n",
       "    }\n",
       "\n",
       "    .dataframe tbody tr th {\n",
       "        vertical-align: top;\n",
       "    }\n",
       "\n",
       "    .dataframe thead th {\n",
       "        text-align: right;\n",
       "    }\n",
       "</style>\n",
       "<table border=\"1\" class=\"dataframe\">\n",
       "  <thead>\n",
       "    <tr style=\"text-align: right;\">\n",
       "      <th></th>\n",
       "      <th>make</th>\n",
       "      <th>model</th>\n",
       "      <th>year</th>\n",
       "      <th>engine_hp</th>\n",
       "      <th>engine_cylinders</th>\n",
       "      <th>transmission_type</th>\n",
       "      <th>vehicle_style</th>\n",
       "      <th>highway_mpg</th>\n",
       "      <th>city_mpg</th>\n",
       "      <th>msrp</th>\n",
       "    </tr>\n",
       "  </thead>\n",
       "  <tbody>\n",
       "    <tr>\n",
       "      <th>0</th>\n",
       "      <td>BMW</td>\n",
       "      <td>1 Series M</td>\n",
       "      <td>2011</td>\n",
       "      <td>335.0</td>\n",
       "      <td>6.0</td>\n",
       "      <td>MANUAL</td>\n",
       "      <td>Coupe</td>\n",
       "      <td>26</td>\n",
       "      <td>19</td>\n",
       "      <td>46135</td>\n",
       "    </tr>\n",
       "    <tr>\n",
       "      <th>1</th>\n",
       "      <td>BMW</td>\n",
       "      <td>1 Series</td>\n",
       "      <td>2011</td>\n",
       "      <td>300.0</td>\n",
       "      <td>6.0</td>\n",
       "      <td>MANUAL</td>\n",
       "      <td>Convertible</td>\n",
       "      <td>28</td>\n",
       "      <td>19</td>\n",
       "      <td>40650</td>\n",
       "    </tr>\n",
       "    <tr>\n",
       "      <th>2</th>\n",
       "      <td>BMW</td>\n",
       "      <td>1 Series</td>\n",
       "      <td>2011</td>\n",
       "      <td>300.0</td>\n",
       "      <td>6.0</td>\n",
       "      <td>MANUAL</td>\n",
       "      <td>Coupe</td>\n",
       "      <td>28</td>\n",
       "      <td>20</td>\n",
       "      <td>36350</td>\n",
       "    </tr>\n",
       "    <tr>\n",
       "      <th>3</th>\n",
       "      <td>BMW</td>\n",
       "      <td>1 Series</td>\n",
       "      <td>2011</td>\n",
       "      <td>230.0</td>\n",
       "      <td>6.0</td>\n",
       "      <td>MANUAL</td>\n",
       "      <td>Coupe</td>\n",
       "      <td>28</td>\n",
       "      <td>18</td>\n",
       "      <td>29450</td>\n",
       "    </tr>\n",
       "    <tr>\n",
       "      <th>4</th>\n",
       "      <td>BMW</td>\n",
       "      <td>1 Series</td>\n",
       "      <td>2011</td>\n",
       "      <td>230.0</td>\n",
       "      <td>6.0</td>\n",
       "      <td>MANUAL</td>\n",
       "      <td>Convertible</td>\n",
       "      <td>28</td>\n",
       "      <td>18</td>\n",
       "      <td>34500</td>\n",
       "    </tr>\n",
       "    <tr>\n",
       "      <th>...</th>\n",
       "      <td>...</td>\n",
       "      <td>...</td>\n",
       "      <td>...</td>\n",
       "      <td>...</td>\n",
       "      <td>...</td>\n",
       "      <td>...</td>\n",
       "      <td>...</td>\n",
       "      <td>...</td>\n",
       "      <td>...</td>\n",
       "      <td>...</td>\n",
       "    </tr>\n",
       "    <tr>\n",
       "      <th>11909</th>\n",
       "      <td>Acura</td>\n",
       "      <td>ZDX</td>\n",
       "      <td>2012</td>\n",
       "      <td>300.0</td>\n",
       "      <td>6.0</td>\n",
       "      <td>AUTOMATIC</td>\n",
       "      <td>4dr Hatchback</td>\n",
       "      <td>23</td>\n",
       "      <td>16</td>\n",
       "      <td>46120</td>\n",
       "    </tr>\n",
       "    <tr>\n",
       "      <th>11910</th>\n",
       "      <td>Acura</td>\n",
       "      <td>ZDX</td>\n",
       "      <td>2012</td>\n",
       "      <td>300.0</td>\n",
       "      <td>6.0</td>\n",
       "      <td>AUTOMATIC</td>\n",
       "      <td>4dr Hatchback</td>\n",
       "      <td>23</td>\n",
       "      <td>16</td>\n",
       "      <td>56670</td>\n",
       "    </tr>\n",
       "    <tr>\n",
       "      <th>11911</th>\n",
       "      <td>Acura</td>\n",
       "      <td>ZDX</td>\n",
       "      <td>2012</td>\n",
       "      <td>300.0</td>\n",
       "      <td>6.0</td>\n",
       "      <td>AUTOMATIC</td>\n",
       "      <td>4dr Hatchback</td>\n",
       "      <td>23</td>\n",
       "      <td>16</td>\n",
       "      <td>50620</td>\n",
       "    </tr>\n",
       "    <tr>\n",
       "      <th>11912</th>\n",
       "      <td>Acura</td>\n",
       "      <td>ZDX</td>\n",
       "      <td>2013</td>\n",
       "      <td>300.0</td>\n",
       "      <td>6.0</td>\n",
       "      <td>AUTOMATIC</td>\n",
       "      <td>4dr Hatchback</td>\n",
       "      <td>23</td>\n",
       "      <td>16</td>\n",
       "      <td>50920</td>\n",
       "    </tr>\n",
       "    <tr>\n",
       "      <th>11913</th>\n",
       "      <td>Lincoln</td>\n",
       "      <td>Zephyr</td>\n",
       "      <td>2006</td>\n",
       "      <td>221.0</td>\n",
       "      <td>6.0</td>\n",
       "      <td>AUTOMATIC</td>\n",
       "      <td>Sedan</td>\n",
       "      <td>26</td>\n",
       "      <td>17</td>\n",
       "      <td>28995</td>\n",
       "    </tr>\n",
       "  </tbody>\n",
       "</table>\n",
       "<p>11914 rows × 10 columns</p>\n",
       "</div>"
      ],
      "text/plain": [
       "          make       model  year  engine_hp  engine_cylinders  \\\n",
       "0          BMW  1 Series M  2011      335.0               6.0   \n",
       "1          BMW    1 Series  2011      300.0               6.0   \n",
       "2          BMW    1 Series  2011      300.0               6.0   \n",
       "3          BMW    1 Series  2011      230.0               6.0   \n",
       "4          BMW    1 Series  2011      230.0               6.0   \n",
       "...        ...         ...   ...        ...               ...   \n",
       "11909    Acura         ZDX  2012      300.0               6.0   \n",
       "11910    Acura         ZDX  2012      300.0               6.0   \n",
       "11911    Acura         ZDX  2012      300.0               6.0   \n",
       "11912    Acura         ZDX  2013      300.0               6.0   \n",
       "11913  Lincoln      Zephyr  2006      221.0               6.0   \n",
       "\n",
       "      transmission_type  vehicle_style  highway_mpg  city_mpg   msrp  \n",
       "0                MANUAL          Coupe           26        19  46135  \n",
       "1                MANUAL    Convertible           28        19  40650  \n",
       "2                MANUAL          Coupe           28        20  36350  \n",
       "3                MANUAL          Coupe           28        18  29450  \n",
       "4                MANUAL    Convertible           28        18  34500  \n",
       "...                 ...            ...          ...       ...    ...  \n",
       "11909         AUTOMATIC  4dr Hatchback           23        16  46120  \n",
       "11910         AUTOMATIC  4dr Hatchback           23        16  56670  \n",
       "11911         AUTOMATIC  4dr Hatchback           23        16  50620  \n",
       "11912         AUTOMATIC  4dr Hatchback           23        16  50920  \n",
       "11913         AUTOMATIC          Sedan           26        17  28995  \n",
       "\n",
       "[11914 rows x 10 columns]"
      ]
     },
     "execution_count": 7,
     "metadata": {},
     "output_type": "execute_result"
    }
   ],
   "source": [
    "data = data.fillna(0)\n",
    "data"
   ]
  },
  {
   "cell_type": "code",
   "execution_count": 8,
   "id": "8981becc",
   "metadata": {},
   "outputs": [
    {
     "data": {
      "text/html": [
       "<div>\n",
       "<style scoped>\n",
       "    .dataframe tbody tr th:only-of-type {\n",
       "        vertical-align: middle;\n",
       "    }\n",
       "\n",
       "    .dataframe tbody tr th {\n",
       "        vertical-align: top;\n",
       "    }\n",
       "\n",
       "    .dataframe thead th {\n",
       "        text-align: right;\n",
       "    }\n",
       "</style>\n",
       "<table border=\"1\" class=\"dataframe\">\n",
       "  <thead>\n",
       "    <tr style=\"text-align: right;\">\n",
       "      <th></th>\n",
       "      <th>make</th>\n",
       "      <th>model</th>\n",
       "      <th>year</th>\n",
       "      <th>engine_hp</th>\n",
       "      <th>engine_cylinders</th>\n",
       "      <th>transmission_type</th>\n",
       "      <th>vehicle_style</th>\n",
       "      <th>highway_mpg</th>\n",
       "      <th>city_mpg</th>\n",
       "      <th>price</th>\n",
       "    </tr>\n",
       "  </thead>\n",
       "  <tbody>\n",
       "    <tr>\n",
       "      <th>0</th>\n",
       "      <td>BMW</td>\n",
       "      <td>1 Series M</td>\n",
       "      <td>2011</td>\n",
       "      <td>335.0</td>\n",
       "      <td>6.0</td>\n",
       "      <td>MANUAL</td>\n",
       "      <td>Coupe</td>\n",
       "      <td>26</td>\n",
       "      <td>19</td>\n",
       "      <td>46135</td>\n",
       "    </tr>\n",
       "    <tr>\n",
       "      <th>1</th>\n",
       "      <td>BMW</td>\n",
       "      <td>1 Series</td>\n",
       "      <td>2011</td>\n",
       "      <td>300.0</td>\n",
       "      <td>6.0</td>\n",
       "      <td>MANUAL</td>\n",
       "      <td>Convertible</td>\n",
       "      <td>28</td>\n",
       "      <td>19</td>\n",
       "      <td>40650</td>\n",
       "    </tr>\n",
       "    <tr>\n",
       "      <th>2</th>\n",
       "      <td>BMW</td>\n",
       "      <td>1 Series</td>\n",
       "      <td>2011</td>\n",
       "      <td>300.0</td>\n",
       "      <td>6.0</td>\n",
       "      <td>MANUAL</td>\n",
       "      <td>Coupe</td>\n",
       "      <td>28</td>\n",
       "      <td>20</td>\n",
       "      <td>36350</td>\n",
       "    </tr>\n",
       "    <tr>\n",
       "      <th>3</th>\n",
       "      <td>BMW</td>\n",
       "      <td>1 Series</td>\n",
       "      <td>2011</td>\n",
       "      <td>230.0</td>\n",
       "      <td>6.0</td>\n",
       "      <td>MANUAL</td>\n",
       "      <td>Coupe</td>\n",
       "      <td>28</td>\n",
       "      <td>18</td>\n",
       "      <td>29450</td>\n",
       "    </tr>\n",
       "    <tr>\n",
       "      <th>4</th>\n",
       "      <td>BMW</td>\n",
       "      <td>1 Series</td>\n",
       "      <td>2011</td>\n",
       "      <td>230.0</td>\n",
       "      <td>6.0</td>\n",
       "      <td>MANUAL</td>\n",
       "      <td>Convertible</td>\n",
       "      <td>28</td>\n",
       "      <td>18</td>\n",
       "      <td>34500</td>\n",
       "    </tr>\n",
       "    <tr>\n",
       "      <th>...</th>\n",
       "      <td>...</td>\n",
       "      <td>...</td>\n",
       "      <td>...</td>\n",
       "      <td>...</td>\n",
       "      <td>...</td>\n",
       "      <td>...</td>\n",
       "      <td>...</td>\n",
       "      <td>...</td>\n",
       "      <td>...</td>\n",
       "      <td>...</td>\n",
       "    </tr>\n",
       "    <tr>\n",
       "      <th>11909</th>\n",
       "      <td>Acura</td>\n",
       "      <td>ZDX</td>\n",
       "      <td>2012</td>\n",
       "      <td>300.0</td>\n",
       "      <td>6.0</td>\n",
       "      <td>AUTOMATIC</td>\n",
       "      <td>4dr Hatchback</td>\n",
       "      <td>23</td>\n",
       "      <td>16</td>\n",
       "      <td>46120</td>\n",
       "    </tr>\n",
       "    <tr>\n",
       "      <th>11910</th>\n",
       "      <td>Acura</td>\n",
       "      <td>ZDX</td>\n",
       "      <td>2012</td>\n",
       "      <td>300.0</td>\n",
       "      <td>6.0</td>\n",
       "      <td>AUTOMATIC</td>\n",
       "      <td>4dr Hatchback</td>\n",
       "      <td>23</td>\n",
       "      <td>16</td>\n",
       "      <td>56670</td>\n",
       "    </tr>\n",
       "    <tr>\n",
       "      <th>11911</th>\n",
       "      <td>Acura</td>\n",
       "      <td>ZDX</td>\n",
       "      <td>2012</td>\n",
       "      <td>300.0</td>\n",
       "      <td>6.0</td>\n",
       "      <td>AUTOMATIC</td>\n",
       "      <td>4dr Hatchback</td>\n",
       "      <td>23</td>\n",
       "      <td>16</td>\n",
       "      <td>50620</td>\n",
       "    </tr>\n",
       "    <tr>\n",
       "      <th>11912</th>\n",
       "      <td>Acura</td>\n",
       "      <td>ZDX</td>\n",
       "      <td>2013</td>\n",
       "      <td>300.0</td>\n",
       "      <td>6.0</td>\n",
       "      <td>AUTOMATIC</td>\n",
       "      <td>4dr Hatchback</td>\n",
       "      <td>23</td>\n",
       "      <td>16</td>\n",
       "      <td>50920</td>\n",
       "    </tr>\n",
       "    <tr>\n",
       "      <th>11913</th>\n",
       "      <td>Lincoln</td>\n",
       "      <td>Zephyr</td>\n",
       "      <td>2006</td>\n",
       "      <td>221.0</td>\n",
       "      <td>6.0</td>\n",
       "      <td>AUTOMATIC</td>\n",
       "      <td>Sedan</td>\n",
       "      <td>26</td>\n",
       "      <td>17</td>\n",
       "      <td>28995</td>\n",
       "    </tr>\n",
       "  </tbody>\n",
       "</table>\n",
       "<p>11914 rows × 10 columns</p>\n",
       "</div>"
      ],
      "text/plain": [
       "          make       model  year  engine_hp  engine_cylinders  \\\n",
       "0          BMW  1 Series M  2011      335.0               6.0   \n",
       "1          BMW    1 Series  2011      300.0               6.0   \n",
       "2          BMW    1 Series  2011      300.0               6.0   \n",
       "3          BMW    1 Series  2011      230.0               6.0   \n",
       "4          BMW    1 Series  2011      230.0               6.0   \n",
       "...        ...         ...   ...        ...               ...   \n",
       "11909    Acura         ZDX  2012      300.0               6.0   \n",
       "11910    Acura         ZDX  2012      300.0               6.0   \n",
       "11911    Acura         ZDX  2012      300.0               6.0   \n",
       "11912    Acura         ZDX  2013      300.0               6.0   \n",
       "11913  Lincoln      Zephyr  2006      221.0               6.0   \n",
       "\n",
       "      transmission_type  vehicle_style  highway_mpg  city_mpg  price  \n",
       "0                MANUAL          Coupe           26        19  46135  \n",
       "1                MANUAL    Convertible           28        19  40650  \n",
       "2                MANUAL          Coupe           28        20  36350  \n",
       "3                MANUAL          Coupe           28        18  29450  \n",
       "4                MANUAL    Convertible           28        18  34500  \n",
       "...                 ...            ...          ...       ...    ...  \n",
       "11909         AUTOMATIC  4dr Hatchback           23        16  46120  \n",
       "11910         AUTOMATIC  4dr Hatchback           23        16  56670  \n",
       "11911         AUTOMATIC  4dr Hatchback           23        16  50620  \n",
       "11912         AUTOMATIC  4dr Hatchback           23        16  50920  \n",
       "11913         AUTOMATIC          Sedan           26        17  28995  \n",
       "\n",
       "[11914 rows x 10 columns]"
      ]
     },
     "execution_count": 8,
     "metadata": {},
     "output_type": "execute_result"
    }
   ],
   "source": [
    "data.rename(columns={'msrp': 'price'}, inplace=True)\n",
    "data"
   ]
  },
  {
   "cell_type": "markdown",
   "id": "d21638fb",
   "metadata": {},
   "source": [
    "## Question 1\n",
    "What is the most frequent observation (mode) for the column `transmission_type`?"
   ]
  },
  {
   "cell_type": "code",
   "execution_count": 9,
   "id": "ebfb822e",
   "metadata": {},
   "outputs": [
    {
     "data": {
      "text/plain": [
       "'AUTOMATIC'"
      ]
     },
     "execution_count": 9,
     "metadata": {},
     "output_type": "execute_result"
    }
   ],
   "source": [
    "data[\"transmission_type\"].mode()[0]"
   ]
  },
  {
   "cell_type": "markdown",
   "id": "5626f9a9",
   "metadata": {},
   "source": [
    "## Question 2\n",
    "What are the two features that have the biggest correlation in this dataset?"
   ]
  },
  {
   "cell_type": "code",
   "execution_count": 10,
   "id": "dec10000",
   "metadata": {},
   "outputs": [],
   "source": [
    "import seaborn as sns\n",
    "import matplotlib.pyplot as plt\n",
    "%matplotlib inline"
   ]
  },
  {
   "cell_type": "code",
   "execution_count": 11,
   "id": "060cbed4",
   "metadata": {},
   "outputs": [
    {
     "name": "stdout",
     "output_type": "stream",
     "text": [
      "<class 'pandas.core.frame.DataFrame'>\n",
      "RangeIndex: 11914 entries, 0 to 11913\n",
      "Data columns (total 10 columns):\n",
      " #   Column             Non-Null Count  Dtype  \n",
      "---  ------             --------------  -----  \n",
      " 0   make               11914 non-null  object \n",
      " 1   model              11914 non-null  object \n",
      " 2   year               11914 non-null  int64  \n",
      " 3   engine_hp          11914 non-null  float64\n",
      " 4   engine_cylinders   11914 non-null  float64\n",
      " 5   transmission_type  11914 non-null  object \n",
      " 6   vehicle_style      11914 non-null  object \n",
      " 7   highway_mpg        11914 non-null  int64  \n",
      " 8   city_mpg           11914 non-null  int64  \n",
      " 9   price              11914 non-null  int64  \n",
      "dtypes: float64(2), int64(4), object(4)\n",
      "memory usage: 930.9+ KB\n"
     ]
    }
   ],
   "source": [
    "data.info()"
   ]
  },
  {
   "cell_type": "code",
   "execution_count": 12,
   "id": "82e157a6",
   "metadata": {},
   "outputs": [
    {
     "name": "stdout",
     "output_type": "stream",
     "text": [
      "Numerical columns: ['year', 'engine_hp', 'engine_cylinders', 'highway_mpg', 'city_mpg', 'price'] \n",
      "\n",
      "Categorical columns: ['make', 'model', 'transmission_type', 'vehicle_style']\n"
     ]
    }
   ],
   "source": [
    "numerical_columns = data.select_dtypes(include=[\"number\"]).columns.to_list()\n",
    "categorical_columns = data.select_dtypes(include=[\"object\"]).columns.to_list()\n",
    "\n",
    "print(\"Numerical columns:\", numerical_columns, \"\\n\")\n",
    "print(\"Categorical columns:\", categorical_columns)"
   ]
  },
  {
   "cell_type": "code",
   "execution_count": 13,
   "id": "bfde6ec4",
   "metadata": {},
   "outputs": [
    {
     "data": {
      "image/png": "[encoded data removed]",
      "text/plain": [
       "<Figure size 800x600 with 2 Axes>"
      ]
     },
     "metadata": {},
     "output_type": "display_data"
    }
   ],
   "source": [
    "plt.figure(figsize = (8,6))\n",
    "sns.heatmap(data[numerical_columns].corr(), annot=True, linewidth=0.5).tick_params(bottom=False, left=False);"
   ]
  },
  {
   "cell_type": "markdown",
   "id": "dfdbe6fe",
   "metadata": {},
   "source": [
    "- `engine_hp` and `engine_cylinders`\n",
    "- `highway_mpg` and `engine_cylinders`"
   ]
  },
  {
   "cell_type": "markdown",
   "id": "9b592c19",
   "metadata": {},
   "source": [
    "### Make price binary"
   ]
  },
  {
   "cell_type": "code",
   "execution_count": 14,
   "id": "856ac77c",
   "metadata": {},
   "outputs": [
    {
     "data": {
      "text/html": [
       "<div>\n",
       "<style scoped>\n",
       "    .dataframe tbody tr th:only-of-type {\n",
       "        vertical-align: middle;\n",
       "    }\n",
       "\n",
       "    .dataframe tbody tr th {\n",
       "        vertical-align: top;\n",
       "    }\n",
       "\n",
       "    .dataframe thead th {\n",
       "        text-align: right;\n",
       "    }\n",
       "</style>\n",
       "<table border=\"1\" class=\"dataframe\">\n",
       "  <thead>\n",
       "    <tr style=\"text-align: right;\">\n",
       "      <th></th>\n",
       "      <th>make</th>\n",
       "      <th>model</th>\n",
       "      <th>year</th>\n",
       "      <th>engine_hp</th>\n",
       "      <th>engine_cylinders</th>\n",
       "      <th>transmission_type</th>\n",
       "      <th>vehicle_style</th>\n",
       "      <th>highway_mpg</th>\n",
       "      <th>city_mpg</th>\n",
       "      <th>above_average</th>\n",
       "    </tr>\n",
       "  </thead>\n",
       "  <tbody>\n",
       "    <tr>\n",
       "      <th>0</th>\n",
       "      <td>BMW</td>\n",
       "      <td>1 Series M</td>\n",
       "      <td>2011</td>\n",
       "      <td>335.0</td>\n",
       "      <td>6.0</td>\n",
       "      <td>MANUAL</td>\n",
       "      <td>Coupe</td>\n",
       "      <td>26</td>\n",
       "      <td>19</td>\n",
       "      <td>1</td>\n",
       "    </tr>\n",
       "    <tr>\n",
       "      <th>1</th>\n",
       "      <td>BMW</td>\n",
       "      <td>1 Series</td>\n",
       "      <td>2011</td>\n",
       "      <td>300.0</td>\n",
       "      <td>6.0</td>\n",
       "      <td>MANUAL</td>\n",
       "      <td>Convertible</td>\n",
       "      <td>28</td>\n",
       "      <td>19</td>\n",
       "      <td>1</td>\n",
       "    </tr>\n",
       "    <tr>\n",
       "      <th>2</th>\n",
       "      <td>BMW</td>\n",
       "      <td>1 Series</td>\n",
       "      <td>2011</td>\n",
       "      <td>300.0</td>\n",
       "      <td>6.0</td>\n",
       "      <td>MANUAL</td>\n",
       "      <td>Coupe</td>\n",
       "      <td>28</td>\n",
       "      <td>20</td>\n",
       "      <td>0</td>\n",
       "    </tr>\n",
       "    <tr>\n",
       "      <th>3</th>\n",
       "      <td>BMW</td>\n",
       "      <td>1 Series</td>\n",
       "      <td>2011</td>\n",
       "      <td>230.0</td>\n",
       "      <td>6.0</td>\n",
       "      <td>MANUAL</td>\n",
       "      <td>Coupe</td>\n",
       "      <td>28</td>\n",
       "      <td>18</td>\n",
       "      <td>0</td>\n",
       "    </tr>\n",
       "    <tr>\n",
       "      <th>4</th>\n",
       "      <td>BMW</td>\n",
       "      <td>1 Series</td>\n",
       "      <td>2011</td>\n",
       "      <td>230.0</td>\n",
       "      <td>6.0</td>\n",
       "      <td>MANUAL</td>\n",
       "      <td>Convertible</td>\n",
       "      <td>28</td>\n",
       "      <td>18</td>\n",
       "      <td>0</td>\n",
       "    </tr>\n",
       "    <tr>\n",
       "      <th>...</th>\n",
       "      <td>...</td>\n",
       "      <td>...</td>\n",
       "      <td>...</td>\n",
       "      <td>...</td>\n",
       "      <td>...</td>\n",
       "      <td>...</td>\n",
       "      <td>...</td>\n",
       "      <td>...</td>\n",
       "      <td>...</td>\n",
       "      <td>...</td>\n",
       "    </tr>\n",
       "    <tr>\n",
       "      <th>11909</th>\n",
       "      <td>Acura</td>\n",
       "      <td>ZDX</td>\n",
       "      <td>2012</td>\n",
       "      <td>300.0</td>\n",
       "      <td>6.0</td>\n",
       "      <td>AUTOMATIC</td>\n",
       "      <td>4dr Hatchback</td>\n",
       "      <td>23</td>\n",
       "      <td>16</td>\n",
       "      <td>1</td>\n",
       "    </tr>\n",
       "    <tr>\n",
       "      <th>11910</th>\n",
       "      <td>Acura</td>\n",
       "      <td>ZDX</td>\n",
       "      <td>2012</td>\n",
       "      <td>300.0</td>\n",
       "      <td>6.0</td>\n",
       "      <td>AUTOMATIC</td>\n",
       "      <td>4dr Hatchback</td>\n",
       "      <td>23</td>\n",
       "      <td>16</td>\n",
       "      <td>1</td>\n",
       "    </tr>\n",
       "    <tr>\n",
       "      <th>11911</th>\n",
       "      <td>Acura</td>\n",
       "      <td>ZDX</td>\n",
       "      <td>2012</td>\n",
       "      <td>300.0</td>\n",
       "      <td>6.0</td>\n",
       "      <td>AUTOMATIC</td>\n",
       "      <td>4dr Hatchback</td>\n",
       "      <td>23</td>\n",
       "      <td>16</td>\n",
       "      <td>1</td>\n",
       "    </tr>\n",
       "    <tr>\n",
       "      <th>11912</th>\n",
       "      <td>Acura</td>\n",
       "      <td>ZDX</td>\n",
       "      <td>2013</td>\n",
       "      <td>300.0</td>\n",
       "      <td>6.0</td>\n",
       "      <td>AUTOMATIC</td>\n",
       "      <td>4dr Hatchback</td>\n",
       "      <td>23</td>\n",
       "      <td>16</td>\n",
       "      <td>1</td>\n",
       "    </tr>\n",
       "    <tr>\n",
       "      <th>11913</th>\n",
       "      <td>Lincoln</td>\n",
       "      <td>Zephyr</td>\n",
       "      <td>2006</td>\n",
       "      <td>221.0</td>\n",
       "      <td>6.0</td>\n",
       "      <td>AUTOMATIC</td>\n",
       "      <td>Sedan</td>\n",
       "      <td>26</td>\n",
       "      <td>17</td>\n",
       "      <td>0</td>\n",
       "    </tr>\n",
       "  </tbody>\n",
       "</table>\n",
       "<p>11914 rows × 10 columns</p>\n",
       "</div>"
      ],
      "text/plain": [
       "          make       model  year  engine_hp  engine_cylinders  \\\n",
       "0          BMW  1 Series M  2011      335.0               6.0   \n",
       "1          BMW    1 Series  2011      300.0               6.0   \n",
       "2          BMW    1 Series  2011      300.0               6.0   \n",
       "3          BMW    1 Series  2011      230.0               6.0   \n",
       "4          BMW    1 Series  2011      230.0               6.0   \n",
       "...        ...         ...   ...        ...               ...   \n",
       "11909    Acura         ZDX  2012      300.0               6.0   \n",
       "11910    Acura         ZDX  2012      300.0               6.0   \n",
       "11911    Acura         ZDX  2012      300.0               6.0   \n",
       "11912    Acura         ZDX  2013      300.0               6.0   \n",
       "11913  Lincoln      Zephyr  2006      221.0               6.0   \n",
       "\n",
       "      transmission_type  vehicle_style  highway_mpg  city_mpg  above_average  \n",
       "0                MANUAL          Coupe           26        19              1  \n",
       "1                MANUAL    Convertible           28        19              1  \n",
       "2                MANUAL          Coupe           28        20              0  \n",
       "3                MANUAL          Coupe           28        18              0  \n",
       "4                MANUAL    Convertible           28        18              0  \n",
       "...                 ...            ...          ...       ...            ...  \n",
       "11909         AUTOMATIC  4dr Hatchback           23        16              1  \n",
       "11910         AUTOMATIC  4dr Hatchback           23        16              1  \n",
       "11911         AUTOMATIC  4dr Hatchback           23        16              1  \n",
       "11912         AUTOMATIC  4dr Hatchback           23        16              1  \n",
       "11913         AUTOMATIC          Sedan           26        17              0  \n",
       "\n",
       "[11914 rows x 10 columns]"
      ]
     },
     "execution_count": 14,
     "metadata": {},
     "output_type": "execute_result"
    }
   ],
   "source": [
    "data[\"above_average\"] = (data[\"price\"] > data[\"price\"].mean()).astype(int)\n",
    "del data[\"price\"]\n",
    "data"
   ]
  },
  {
   "cell_type": "markdown",
   "id": "e40ba020",
   "metadata": {},
   "source": [
    "### Split the data"
   ]
  },
  {
   "cell_type": "code",
   "execution_count": 15,
   "id": "0b8b6625",
   "metadata": {},
   "outputs": [
    {
     "data": {
      "text/plain": [
       "Index(['make', 'model', 'year', 'engine_hp', 'engine_cylinders',\n",
       "       'transmission_type', 'vehicle_style', 'highway_mpg', 'city_mpg'],\n",
       "      dtype='object')"
      ]
     },
     "execution_count": 15,
     "metadata": {},
     "output_type": "execute_result"
    }
   ],
   "source": [
    "data.columns[0:-1]"
   ]
  },
  {
   "cell_type": "code",
   "execution_count": 16,
   "id": "51236957",
   "metadata": {},
   "outputs": [],
   "source": [
    "from sklearn.model_selection import train_test_split"
   ]
  },
  {
   "cell_type": "code",
   "execution_count": 17,
   "id": "62ff95d4",
   "metadata": {},
   "outputs": [],
   "source": [
    "X, y = data[data.columns[0:-1]], data[\"above_average\"]"
   ]
  },
  {
   "cell_type": "code",
   "execution_count": 18,
   "id": "9edb4d06",
   "metadata": {},
   "outputs": [],
   "source": [
    "X_full, X_test, y_full, y_test = train_test_split(X, y, test_size=0.2 , random_state=42)"
   ]
  },
  {
   "cell_type": "code",
   "execution_count": 19,
   "id": "dc90f1aa",
   "metadata": {},
   "outputs": [],
   "source": [
    "X_train, X_val, y_train, y_val = train_test_split(X_full, y_full, test_size=0.25, random_state=42)"
   ]
  },
  {
   "cell_type": "code",
   "execution_count": 20,
   "id": "285f10ab",
   "metadata": {},
   "outputs": [],
   "source": [
    "X_train = X_train.reset_index(drop=True)\n",
    "X_val = X_val.reset_index(drop=True)\n",
    "X_test = X_test.reset_index(drop=True)\n",
    "\n",
    "y_train = y_train.reset_index(drop=True)\n",
    "y_val = y_val.reset_index(drop=True)\n",
    "y_test = y_test.reset_index(drop=True)"
   ]
  },
  {
   "cell_type": "markdown",
   "id": "649a9711",
   "metadata": {},
   "source": [
    "## Question 3\n",
    "Which of these variables has the lowest mutual information score?"
   ]
  },
  {
   "cell_type": "code",
   "execution_count": 21,
   "id": "80e110e2",
   "metadata": {},
   "outputs": [],
   "source": [
    "from sklearn.metrics import mutual_info_score"
   ]
  },
  {
   "cell_type": "code",
   "execution_count": 22,
   "id": "9112d5e6",
   "metadata": {},
   "outputs": [
    {
     "name": "stdout",
     "output_type": "stream",
     "text": [
      "Mutual score between above_average and make: 0.24\n",
      "Mutual score between above_average and model: 0.46\n",
      "Mutual score between above_average and transmission_type: 0.02\n",
      "Mutual score between above_average and vehicle_style: 0.08\n"
     ]
    }
   ],
   "source": [
    "for col in categorical_columns:\n",
    "    print(f\"Mutual score between above_average and {col}:\", round(mutual_info_score(y_train, X_train[col]), 2))"
   ]
  },
  {
   "cell_type": "markdown",
   "id": "b956de49",
   "metadata": {},
   "source": [
    "Mutual score between `above_average` and `transmission_type` is the lowest"
   ]
  },
  {
   "cell_type": "markdown",
   "id": "d4bb6fb9",
   "metadata": {},
   "source": [
    "## Question 4\n",
    "Train a logistic regression.\n",
    "What accuracy did you get?"
   ]
  },
  {
   "cell_type": "code",
   "execution_count": 23,
   "id": "2a0b134f",
   "metadata": {},
   "outputs": [],
   "source": [
    "from sklearn.feature_extraction import DictVectorizer\n",
    "from sklearn.linear_model import LogisticRegression"
   ]
  },
  {
   "cell_type": "code",
   "execution_count": 24,
   "id": "4b0fa24d",
   "metadata": {},
   "outputs": [],
   "source": [
    "train_dicts = X_train.to_dict(orient=\"records\")"
   ]
  },
  {
   "cell_type": "code",
   "execution_count": 25,
   "id": "3fb831d3",
   "metadata": {},
   "outputs": [],
   "source": [
    "dv = DictVectorizer(sparse=False)"
   ]
  },
  {
   "cell_type": "code",
   "execution_count": 26,
   "id": "e8fe05ca",
   "metadata": {},
   "outputs": [],
   "source": [
    "X_train_one_hot = dv.fit_transform(train_dicts)"
   ]
  },
  {
   "cell_type": "code",
   "execution_count": 27,
   "id": "f31e7fc5",
   "metadata": {},
   "outputs": [],
   "source": [
    "val_dicts = X_val.to_dict(orient=\"records\")"
   ]
  },
  {
   "cell_type": "code",
   "execution_count": 28,
   "id": "097f3eaf",
   "metadata": {},
   "outputs": [],
   "source": [
    "X_val_one_hot = dv.transform(val_dicts)"
   ]
  },
  {
   "cell_type": "code",
   "execution_count": 29,
   "id": "51e6db54",
   "metadata": {},
   "outputs": [
    {
     "data": {
      "text/plain": [
       "LogisticRegression(C=10, max_iter=1000, random_state=42, solver='liblinear')"
      ]
     },
     "execution_count": 29,
     "metadata": {},
     "output_type": "execute_result"
    }
   ],
   "source": [
    "model = LogisticRegression(solver='liblinear', C=10, max_iter=1000, random_state=42)\n",
    "model.fit(X_train_one_hot, y_train)"
   ]
  },
  {
   "cell_type": "code",
   "execution_count": 30,
   "id": "2206584c",
   "metadata": {},
   "outputs": [],
   "source": [
    "y_pred = model.predict(X_val_one_hot)"
   ]
  },
  {
   "cell_type": "code",
   "execution_count": 31,
   "id": "2d4cce14",
   "metadata": {},
   "outputs": [
    {
     "data": {
      "text/plain": [
       "0.95"
      ]
     },
     "execution_count": 31,
     "metadata": {},
     "output_type": "execute_result"
    }
   ],
   "source": [
    "round((y_val == y_pred).mean(), 2)"
   ]
  },
  {
   "cell_type": "markdown",
   "id": "50668ca0",
   "metadata": {},
   "source": [
    "## Question 5\n",
    "Which of following feature has the smallest difference?"
   ]
  },
  {
   "cell_type": "code",
   "execution_count": 32,
   "id": "2e21e0bf",
   "metadata": {},
   "outputs": [
    {
     "data": {
      "text/plain": [
       "array(['city_mpg', 'engine_cylinders', 'engine_hp', 'highway_mpg',\n",
       "       'make=Acura', 'make=Alfa Romeo', 'make=Aston Martin', 'make=Audi',\n",
       "       'make=BMW', 'make=Bentley', 'make=Bugatti', 'make=Buick',\n",
       "       'make=Cadillac', 'make=Chevrolet', 'make=Chrysler', 'make=Dodge',\n",
       "       'make=FIAT', 'make=Ferrari', 'make=Ford', 'make=GMC',\n",
       "       'make=Genesis', 'make=HUMMER', 'make=Honda', 'make=Hyundai',\n",
       "       'make=Infiniti', 'make=Kia', 'make=Lamborghini', 'make=Land Rover',\n",
       "       'make=Lexus', 'make=Lincoln', 'make=Lotus', 'make=Maserati',\n",
       "       'make=Maybach', 'make=Mazda', 'make=McLaren', 'make=Mercedes-Benz',\n",
       "       'make=Mitsubishi', 'make=Nissan', 'make=Oldsmobile',\n",
       "       'make=Plymouth', 'make=Pontiac', 'make=Porsche',\n",
       "       'make=Rolls-Royce', 'make=Saab', 'make=Scion', 'make=Spyker',\n",
       "       'make=Subaru', 'make=Suzuki', 'make=Tesla', 'make=Toyota',\n",
       "       'make=Volkswagen', 'make=Volvo', 'model=1 Series', 'model=100',\n",
       "       'model=124 Spider', 'model=190-Class', 'model=2', 'model=2 Series',\n",
       "       'model=200', 'model=200SX', 'model=240', 'model=240SX', 'model=3',\n",
       "       'model=3 Series', 'model=3 Series Gran Turismo', 'model=300',\n",
       "       'model=300-Class', 'model=3000GT', 'model=300M', 'model=300ZX',\n",
       "       'model=323', 'model=350-Class', 'model=350Z', 'model=360',\n",
       "       'model=370Z', 'model=4 Series', 'model=4 Series Gran Coupe',\n",
       "       'model=400-Class', 'model=420-Class', 'model=456M',\n",
       "       'model=458 Italia', 'model=4C', 'model=4Runner', 'model=5',\n",
       "       'model=5 Series', 'model=5 Series Gran Turismo', 'model=500',\n",
       "       'model=500-Class', 'model=500L', 'model=500X', 'model=500e',\n",
       "       'model=550', 'model=560-Class', 'model=57', 'model=570S',\n",
       "       'model=575M', 'model=599', 'model=6', 'model=6 Series',\n",
       "       'model=6 Series Gran Coupe', 'model=600-Class', 'model=6000',\n",
       "       'model=612 Scaglietti', 'model=62', 'model=626', 'model=7 Series',\n",
       "       'model=740', 'model=760', 'model=780', 'model=8 Series',\n",
       "       'model=80', 'model=850', 'model=9-2X', 'model=9-3',\n",
       "       'model=9-3 Griffin', 'model=9-4X', 'model=9-5', 'model=9-7X',\n",
       "       'model=90', 'model=900', 'model=9000', 'model=911', 'model=928',\n",
       "       'model=929', 'model=940', 'model=944', 'model=960', 'model=968',\n",
       "       'model=A3', 'model=A4', 'model=A5', 'model=A6', 'model=A7',\n",
       "       'model=A8', 'model=ALPINA B6 Gran Coupe', 'model=ALPINA B7',\n",
       "       'model=AMG GT', 'model=ATS', 'model=ATS Coupe', 'model=Acadia',\n",
       "       'model=Acadia Limited', 'model=Accent', 'model=Acclaim',\n",
       "       'model=Accord', 'model=Accord Crosstour', 'model=Accord Hybrid',\n",
       "       'model=Accord Plug-In Hybrid', 'model=Achieva',\n",
       "       'model=ActiveHybrid 5', 'model=ActiveHybrid 7',\n",
       "       'model=ActiveHybrid X6', 'model=Aerio', 'model=Aerostar',\n",
       "       'model=Alero', 'model=Allante', 'model=Altima',\n",
       "       'model=Altima Hybrid', 'model=Amanti', 'model=Armada',\n",
       "       'model=Arnage', 'model=Aspen', 'model=Aspire', 'model=Astro',\n",
       "       'model=Astro Cargo', 'model=Aurora', 'model=Avalanche',\n",
       "       'model=Avalon', 'model=Avalon Hybrid', 'model=Avenger',\n",
       "       'model=Aventador', 'model=Aveo', 'model=Aviator', 'model=Axxess',\n",
       "       'model=Azera', 'model=Aztek', 'model=Azure', 'model=Azure T',\n",
       "       'model=B-Class Electric Drive', 'model=B-Series',\n",
       "       'model=B-Series Pickup', 'model=B-Series Truck',\n",
       "       'model=B9 Tribeca', 'model=BRZ', 'model=Baja', 'model=Beetle',\n",
       "       'model=Beetle Convertible', 'model=Beretta',\n",
       "       'model=Black Diamond Avalanche', 'model=Blackwood', 'model=Blazer',\n",
       "       'model=Bonneville', 'model=Borrego', 'model=Boxster',\n",
       "       'model=Bravada', 'model=Breeze', 'model=Bronco', 'model=Bronco II',\n",
       "       'model=Brooklands', 'model=Brougham', 'model=C-Class',\n",
       "       'model=C-Max Hybrid', 'model=C/K 1500 Series',\n",
       "       'model=C/K 2500 Series', 'model=C30', 'model=C43 AMG', 'model=C70',\n",
       "       'model=C8', 'model=CC', 'model=CL', 'model=CL-Class',\n",
       "       'model=CLA-Class', 'model=CLK-Class', 'model=CLS-Class',\n",
       "       'model=CR-V', 'model=CR-Z', 'model=CT6', 'model=CTS',\n",
       "       'model=CTS Coupe', 'model=CTS Wagon', 'model=CTS-V',\n",
       "       'model=CTS-V Coupe', 'model=CTS-V Wagon', 'model=CX-3',\n",
       "       'model=CX-5', 'model=CX-7', 'model=CX-9', 'model=Cabrio',\n",
       "       'model=Cabriolet', 'model=Cadenza', 'model=Caliber',\n",
       "       'model=Camaro', 'model=Camry', 'model=Camry Hybrid',\n",
       "       'model=Camry Solara', 'model=Canyon', 'model=Caprice',\n",
       "       'model=Captiva Sport', 'model=Caravan', 'model=Carrera GT',\n",
       "       'model=Cascada', 'model=Catera', 'model=Cavalier', 'model=Cayenne',\n",
       "       'model=Cayman', 'model=Cayman S', 'model=Celebrity',\n",
       "       'model=Celica', 'model=Century', 'model=Challenger',\n",
       "       'model=Charger', 'model=Chevy Van', 'model=City Express',\n",
       "       'model=Civic', 'model=Civic CRX', 'model=Civic del Sol',\n",
       "       'model=Classic', 'model=Cobalt', 'model=Colorado', 'model=Colt',\n",
       "       'model=Concorde', 'model=Continental',\n",
       "       'model=Continental Flying Spur',\n",
       "       'model=Continental Flying Spur Speed', 'model=Continental GT',\n",
       "       'model=Continental GT Speed',\n",
       "       'model=Continental GT Speed Convertible', 'model=Continental GTC',\n",
       "       'model=Continental GTC Speed', 'model=Continental Supersports',\n",
       "       'model=Continental Supersports Convertible', 'model=Contour',\n",
       "       'model=Corniche', 'model=Corolla', 'model=Corolla iM',\n",
       "       'model=Corrado', 'model=Corvette', 'model=Corvette Stingray',\n",
       "       'model=Coupe', 'model=Cressida', 'model=Crossfire',\n",
       "       'model=Crosstour', 'model=Crosstrek', 'model=Crown Victoria',\n",
       "       'model=Cruze', 'model=Cruze Limited', 'model=Cube',\n",
       "       'model=Custom Cruiser', 'model=Cutlass', 'model=Cutlass Calais',\n",
       "       'model=Cutlass Ciera', 'model=Cutlass Supreme', 'model=DB9',\n",
       "       'model=DB9 GT', 'model=DBS', 'model=DTS', 'model=Dakota',\n",
       "       'model=Dart', 'model=Dawn', 'model=Daytona', 'model=DeVille',\n",
       "       'model=Defender', 'model=Diablo', 'model=Diamante',\n",
       "       'model=Discovery', 'model=Discovery Series II',\n",
       "       'model=Discovery Sport', 'model=Durango', 'model=Dynasty',\n",
       "       'model=E-150', 'model=E-250', 'model=E-Class',\n",
       "       'model=E-Series Van', 'model=E-Series Wagon', 'model=E55 AMG',\n",
       "       'model=ECHO', 'model=ES 250', 'model=ES 300', 'model=ES 300h',\n",
       "       'model=EX', 'model=EX35', 'model=Eclipse', 'model=Eclipse Spyder',\n",
       "       'model=Edge', 'model=Eighty-Eight', 'model=Eighty-Eight Royale',\n",
       "       'model=Elantra', 'model=Elantra Coupe', 'model=Elantra GT',\n",
       "       'model=Elantra Touring', 'model=Eldorado', 'model=Electra',\n",
       "       'model=Element', 'model=Elise', 'model=Enclave', 'model=Encore',\n",
       "       'model=Endeavor', 'model=Entourage', 'model=Envision',\n",
       "       'model=Envoy', 'model=Envoy XL', 'model=Envoy XUV', 'model=Eos',\n",
       "       'model=Equator', 'model=Equinox', 'model=Equus', 'model=Escalade',\n",
       "       'model=Escalade ESV', 'model=Escalade EXT',\n",
       "       'model=Escalade Hybrid', 'model=Escape', 'model=Escape Hybrid',\n",
       "       'model=Escort', 'model=Esprit', 'model=Esteem', 'model=EuroVan',\n",
       "       'model=Evora', 'model=Excel', 'model=Exige', 'model=Expedition',\n",
       "       'model=Explorer', 'model=Explorer Sport',\n",
       "       'model=Explorer Sport Trac', 'model=Expo', 'model=Express',\n",
       "       'model=Express Cargo', 'model=F-150', 'model=F-150 Heritage',\n",
       "       'model=F-150 SVT Lightning', 'model=F-250', 'model=F12 Berlinetta',\n",
       "       'model=F430', 'model=FF', 'model=FJ Cruiser', 'model=FR-S',\n",
       "       'model=FX', 'model=FX35', 'model=FX45', 'model=FX50',\n",
       "       'model=Festiva', 'model=Fiesta', 'model=Firebird', 'model=Fit',\n",
       "       'model=Five Hundred', 'model=Fleetwood', 'model=Flex',\n",
       "       'model=Flying Spur', 'model=Focus', 'model=Focus ST',\n",
       "       'model=Forenza', 'model=Forester', 'model=Forte', 'model=Fox',\n",
       "       'model=Freelander', 'model=Freestar', 'model=Freestyle',\n",
       "       'model=Frontier', 'model=Fusion', 'model=Fusion Hybrid',\n",
       "       'model=G Convertible', 'model=G Coupe', 'model=G Sedan',\n",
       "       'model=G-Class', 'model=G20', 'model=G3', 'model=G35', 'model=G37',\n",
       "       'model=G37 Convertible', 'model=G37 Coupe', 'model=G37 Sedan',\n",
       "       'model=G5', 'model=G6', 'model=G8', 'model=G80', 'model=GL-Class',\n",
       "       'model=GLA-Class', 'model=GLC-Class', 'model=GLE-Class',\n",
       "       'model=GLE-Class Coupe', 'model=GLI', 'model=GLK-Class',\n",
       "       'model=GLS-Class', 'model=GS 200t', 'model=GS 300', 'model=GS 350',\n",
       "       'model=GS 400', 'model=GS 430', 'model=GS 450h', 'model=GS 460',\n",
       "       'model=GT', 'model=GT-R', 'model=GTI', 'model=GTO', 'model=GX 460',\n",
       "       'model=GX 470', 'model=Galant', 'model=Gallardo', 'model=Genesis',\n",
       "       'model=Genesis Coupe', 'model=Ghibli', 'model=Ghost',\n",
       "       'model=Ghost Series II', 'model=Golf', 'model=Golf Alltrack',\n",
       "       'model=Golf GTI', 'model=Golf R', 'model=Golf SportWagen',\n",
       "       'model=GranSport', 'model=GranTurismo',\n",
       "       'model=GranTurismo Convertible', 'model=Grand Am',\n",
       "       'model=Grand Caravan', 'model=Grand Prix', 'model=Grand Vitara',\n",
       "       'model=Grand Voyager', 'model=H3', 'model=H3T', 'model=HHR',\n",
       "       'model=HR-V', 'model=HS 250h', 'model=Highlander',\n",
       "       'model=Highlander Hybrid', 'model=Horizon', 'model=Huracan',\n",
       "       'model=I30', 'model=I35', 'model=ILX', 'model=ILX Hybrid',\n",
       "       'model=IS 200t', 'model=IS 250', 'model=IS 250 C', 'model=IS 300',\n",
       "       'model=IS 350', 'model=IS 350 C', 'model=IS F', 'model=Impala',\n",
       "       'model=Impala Limited', 'model=Imperial', 'model=Impreza',\n",
       "       'model=Impreza WRX', 'model=Insight', 'model=Integra',\n",
       "       'model=Intrepid', 'model=Intrigue', 'model=J30', 'model=JX',\n",
       "       'model=Jetta', 'model=Jetta GLI', 'model=Jetta Hybrid',\n",
       "       'model=Jetta SportWagen', 'model=Jimmy', 'model=Journey',\n",
       "       'model=Juke', 'model=Justy', 'model=K900', 'model=Kizashi',\n",
       "       'model=LFA', 'model=LHS', 'model=LR2', 'model=LR3', 'model=LR4',\n",
       "       'model=LS', 'model=LS 400', 'model=LS 430', 'model=LS 460',\n",
       "       'model=LS 600h L', 'model=LSS', 'model=LTD Crown Victoria',\n",
       "       'model=LX 450', 'model=LX 470', 'model=LX 570', 'model=LaCrosse',\n",
       "       'model=Lancer', 'model=Lancer Evolution', 'model=Lancer Sportback',\n",
       "       'model=Land Cruiser', 'model=Laser', 'model=Le Baron',\n",
       "       'model=Le Mans', 'model=LeSabre', 'model=Leaf', 'model=Legacy',\n",
       "       'model=Legend', 'model=Levante', 'model=Loyale', 'model=Lucerne',\n",
       "       'model=Lumina', 'model=Lumina Minivan', 'model=M', 'model=M-Class',\n",
       "       'model=M2', 'model=M3', 'model=M30', 'model=M35', 'model=M37',\n",
       "       'model=M4', 'model=M45', 'model=M5', 'model=M56', 'model=M6',\n",
       "       'model=M6 Gran Coupe', 'model=MDX', 'model=MKC', 'model=MKS',\n",
       "       'model=MKT', 'model=MKX', 'model=MKZ', 'model=MKZ Hybrid',\n",
       "       'model=MP4-12C', 'model=MPV', 'model=MR2', 'model=MR2 Spyder',\n",
       "       'model=MX-3', 'model=MX-5 Miata', 'model=MX-6', 'model=Macan',\n",
       "       'model=Magnum', 'model=Malibu', 'model=Malibu Classic',\n",
       "       'model=Malibu Hybrid', 'model=Malibu Limited', 'model=Malibu Maxx',\n",
       "       'model=Mark LT', 'model=Mark VII', 'model=Mark VIII',\n",
       "       'model=Matrix', 'model=Maxima', 'model=Maybach',\n",
       "       'model=Mazdaspeed 3', 'model=Mazdaspeed MX-5 Miata',\n",
       "       'model=Mazdaspeed Protege', 'model=Metris', 'model=Metro',\n",
       "       'model=Mighty Max Pickup', 'model=Millenia', 'model=Mirage',\n",
       "       'model=Mirage G4', 'model=Model S', 'model=Monaco',\n",
       "       'model=Montana', 'model=Montana SV6', 'model=Monte Carlo',\n",
       "       'model=Montero', 'model=Montero Sport', 'model=Mulsanne',\n",
       "       'model=Murano', 'model=Murano CrossCabriolet', 'model=Murcielago',\n",
       "       'model=Mustang', 'model=Mustang SVT Cobra', 'model=NSX',\n",
       "       'model=NV200', 'model=NX', 'model=NX 200t', 'model=NX 300h',\n",
       "       'model=Navajo', 'model=Navigator', 'model=Neon',\n",
       "       'model=New Beetle', 'model=New Yorker', 'model=Ninety-Eight',\n",
       "       'model=Nitro', 'model=Odyssey', 'model=Omni', 'model=Optima',\n",
       "       'model=Optima Hybrid', 'model=Outback', 'model=Outlander',\n",
       "       'model=Outlander Sport', 'model=PT Cruiser', 'model=Pacifica',\n",
       "       'model=Panamera', 'model=Park Avenue', 'model=Paseo',\n",
       "       'model=Passat', 'model=Passport', 'model=Pathfinder',\n",
       "       'model=Phaeton', 'model=Phantom', 'model=Phantom Coupe',\n",
       "       'model=Phantom Drophead Coupe', 'model=Pickup', 'model=Pilot',\n",
       "       'model=Precis', 'model=Prelude', 'model=Previa', 'model=Prius',\n",
       "       'model=Prius Prime', 'model=Prius c', 'model=Prius v',\n",
       "       'model=Prizm', 'model=Probe', 'model=Protege', 'model=Protege5',\n",
       "       'model=Prowler', 'model=Q3', 'model=Q40', 'model=Q45', 'model=Q5',\n",
       "       'model=Q50', 'model=Q60 Convertible', 'model=Q60 Coupe',\n",
       "       'model=Q7', 'model=Q70', 'model=QX', 'model=QX4', 'model=QX50',\n",
       "       'model=QX56', 'model=QX60', 'model=QX70', 'model=QX80',\n",
       "       'model=Quattroporte', 'model=Quest', 'model=R-Class', 'model=R32',\n",
       "       'model=R8', 'model=RAM 150', 'model=RAM 250', 'model=RAV4',\n",
       "       'model=RAV4 EV', 'model=RAV4 Hybrid', 'model=RC 200t',\n",
       "       'model=RC 300', 'model=RC 350', 'model=RDX', 'model=RL',\n",
       "       'model=RLX', 'model=RS 4', 'model=RS 5', 'model=RS 7', 'model=RSX',\n",
       "       'model=RX 300', 'model=RX 330', 'model=RX 350', 'model=RX 400h',\n",
       "       'model=RX 450h', 'model=RX-7', 'model=RX-8', 'model=Rabbit',\n",
       "       'model=Raider', 'model=Rainier', 'model=Rally Wagon',\n",
       "       'model=Ram 50 Pickup', 'model=Ram Cargo', 'model=Ram Pickup 1500',\n",
       "       'model=Ram Van', 'model=Ram Wagon', 'model=Ramcharger',\n",
       "       'model=Range Rover', 'model=Range Rover Evoque',\n",
       "       'model=Range Rover Sport', 'model=Ranger', 'model=Rapide',\n",
       "       'model=Rapide S', 'model=Reatta', 'model=Regal', 'model=Regency',\n",
       "       'model=Rendezvous', 'model=Reno', 'model=Reventon',\n",
       "       'model=Ridgeline', 'model=Rio', 'model=Riviera',\n",
       "       'model=Roadmaster', 'model=Rogue', 'model=Rogue Select',\n",
       "       'model=Rondo', 'model=Routan', 'model=S-10', 'model=S-10 Blazer',\n",
       "       'model=S-15', 'model=S-15 Jimmy', 'model=S-Class', 'model=S2000',\n",
       "       'model=S3', 'model=S4', 'model=S40', 'model=S5', 'model=S6',\n",
       "       'model=S60', 'model=S60 Cross Country', 'model=S7', 'model=S70',\n",
       "       'model=S8', 'model=S80', 'model=S90', 'model=SC 300',\n",
       "       'model=SC 400', 'model=SC 430', 'model=SL-Class',\n",
       "       'model=SLC-Class', 'model=SLK-Class', 'model=SLR McLaren',\n",
       "       'model=SLS AMG', 'model=SLS AMG GT',\n",
       "       'model=SLS AMG GT Final Edition', 'model=SLX', 'model=SQ5',\n",
       "       'model=SRT Viper', 'model=SRX', 'model=STS', 'model=STS-V',\n",
       "       'model=SVX', 'model=SX4', 'model=Safari', 'model=Safari Cargo',\n",
       "       'model=Samurai', 'model=Santa Fe', 'model=Santa Fe Sport',\n",
       "       'model=Savana', 'model=Savana Cargo', 'model=Scoupe',\n",
       "       'model=Sebring', 'model=Sedona', 'model=Sentra', 'model=Sephia',\n",
       "       'model=Sequoia', 'model=Seville', 'model=Shadow',\n",
       "       'model=Shelby GT350', 'model=Shelby GT500', 'model=Sidekick',\n",
       "       'model=Sienna', 'model=Sierra 1500', 'model=Sierra 1500 Classic',\n",
       "       'model=Sierra 1500 Hybrid', 'model=Sierra 1500HD',\n",
       "       'model=Sierra C3', 'model=Sierra Classic 1500', 'model=Sigma',\n",
       "       'model=Silhouette', 'model=Silver Seraph', 'model=Silverado 1500',\n",
       "       'model=Silverado 1500 Classic', 'model=Silverado 1500 Hybrid',\n",
       "       'model=Skylark', 'model=Solstice', 'model=Sonata',\n",
       "       'model=Sonata Hybrid', 'model=Sonic', 'model=Sonoma',\n",
       "       'model=Sorento', 'model=Soul', 'model=Soul EV', 'model=Spark',\n",
       "       'model=Spark EV', 'model=Spectra', 'model=Spirit',\n",
       "       'model=Sportage', 'model=Sportvan', 'model=Spyder', 'model=Stanza',\n",
       "       'model=Stealth', 'model=Stratus', 'model=Suburban',\n",
       "       'model=Sunbird', 'model=Sundance', 'model=Sunfire', 'model=Supra',\n",
       "       'model=Swift', 'model=Syclone', 'model=T100', 'model=TL',\n",
       "       'model=TLX', 'model=TSX', 'model=TSX Sport Wagon', 'model=TT',\n",
       "       'model=TTS', 'model=Tacoma', 'model=Tahoe', 'model=Tahoe Hybrid',\n",
       "       'model=Tahoe Limited/Z71', 'model=Taurus', 'model=Taurus X',\n",
       "       'model=Tempo', 'model=Tercel', 'model=Terrain', 'model=Terraza',\n",
       "       'model=Thunderbird', 'model=Tiburon', 'model=Tiguan',\n",
       "       'model=Titan', 'model=Toronado', 'model=Torrent', 'model=Touareg',\n",
       "       'model=Touareg 2', 'model=Town Car', 'model=Town and Country',\n",
       "       'model=Tracker', 'model=TrailBlazer', 'model=TrailBlazer EXT',\n",
       "       'model=Trans Sport', 'model=Transit Connect',\n",
       "       'model=Transit Wagon', 'model=Traverse', 'model=Trax',\n",
       "       'model=Tribeca', 'model=Tribute', 'model=Tribute Hybrid',\n",
       "       'model=Truck', 'model=Tucson', 'model=Tundra', 'model=Typhoon',\n",
       "       'model=Uplander', 'model=V12 Vanquish', 'model=V12 Vantage',\n",
       "       'model=V12 Vantage S', 'model=V40', 'model=V50', 'model=V60',\n",
       "       'model=V60 Cross Country', 'model=V70', 'model=V8 Vantage',\n",
       "       'model=Van', 'model=Vanagon', 'model=Vandura', 'model=Vanquish',\n",
       "       'model=Vanwagon', 'model=Veloster', 'model=Venture', 'model=Venza',\n",
       "       'model=Veracruz', 'model=Verano', 'model=Verona', 'model=Versa',\n",
       "       'model=Versa Note', 'model=Veyron 16.4', 'model=Vibe',\n",
       "       'model=Vigor', 'model=Viper', 'model=Virage', 'model=Vitara',\n",
       "       'model=Voyager', 'model=WRX', 'model=Windstar',\n",
       "       'model=Windstar Cargo', 'model=Wraith', 'model=X-90', 'model=X1',\n",
       "       'model=X3', 'model=X4', 'model=X5', 'model=X5 M', 'model=X6',\n",
       "       'model=X6 M', 'model=XC', 'model=XC60', 'model=XC70', 'model=XC90',\n",
       "       'model=XG300', 'model=XG350', 'model=XL-7', 'model=XL7',\n",
       "       'model=XLR', 'model=XLR-V', 'model=XT', 'model=XT5', 'model=XTS',\n",
       "       'model=XV Crosstrek', 'model=Xterra', 'model=Yaris',\n",
       "       'model=Yaris iA', 'model=Yukon', 'model=Yukon Denali',\n",
       "       'model=Yukon Hybrid', 'model=Yukon XL', 'model=Z3', 'model=Z4',\n",
       "       'model=Z4 M', 'model=Z8', 'model=ZDX', 'model=allroad',\n",
       "       'model=allroad quattro', 'model=e-Golf', 'model=i-MiEV',\n",
       "       'model=i3', 'model=iA', 'model=iQ', 'model=tC', 'model=xA',\n",
       "       'model=xB', 'model=xD', 'transmission_type=AUTOMATED_MANUAL',\n",
       "       'transmission_type=AUTOMATIC', 'transmission_type=DIRECT_DRIVE',\n",
       "       'transmission_type=MANUAL', 'transmission_type=UNKNOWN',\n",
       "       'vehicle_style=2dr Hatchback', 'vehicle_style=2dr SUV',\n",
       "       'vehicle_style=4dr Hatchback', 'vehicle_style=4dr SUV',\n",
       "       'vehicle_style=Cargo Minivan', 'vehicle_style=Cargo Van',\n",
       "       'vehicle_style=Convertible', 'vehicle_style=Convertible SUV',\n",
       "       'vehicle_style=Coupe', 'vehicle_style=Crew Cab Pickup',\n",
       "       'vehicle_style=Extended Cab Pickup',\n",
       "       'vehicle_style=Passenger Minivan', 'vehicle_style=Passenger Van',\n",
       "       'vehicle_style=Regular Cab Pickup', 'vehicle_style=Sedan',\n",
       "       'vehicle_style=Wagon', 'year'], dtype=object)"
      ]
     },
     "execution_count": 32,
     "metadata": {},
     "output_type": "execute_result"
    }
   ],
   "source": [
    "dv.get_feature_names_out()"
   ]
  },
  {
   "cell_type": "code",
   "execution_count": 33,
   "id": "1c587f97",
   "metadata": {},
   "outputs": [
    {
     "data": {
      "text/plain": [
       "('city_mpg', 'engine_hp')"
      ]
     },
     "execution_count": 33,
     "metadata": {},
     "output_type": "execute_result"
    }
   ],
   "source": [
    "dv.get_feature_names_out()[0], dv.get_feature_names_out()[2]"
   ]
  },
  {
   "cell_type": "code",
   "execution_count": 34,
   "id": "629443ac",
   "metadata": {},
   "outputs": [
    {
     "data": {
      "text/plain": [
       "('year',\n",
       " array(['transmission_type=UNKNOWN', 'transmission_type=MANUAL',\n",
       "        'transmission_type=DIRECT_DRIVE', 'transmission_type=AUTOMATIC',\n",
       "        'transmission_type=AUTOMATED_MANUAL'], dtype=object))"
      ]
     },
     "execution_count": 34,
     "metadata": {},
     "output_type": "execute_result"
    }
   ],
   "source": [
    "dv.get_feature_names_out()[-1], dv.get_feature_names_out()[-18:-23:-1]"
   ]
  },
  {
   "cell_type": "code",
   "execution_count": 35,
   "id": "20a93413",
   "metadata": {},
   "outputs": [
    {
     "data": {
      "text/plain": [
       "array(['AUTOMATIC', 'MANUAL', 'AUTOMATED_MANUAL', 'UNKNOWN',\n",
       "       'DIRECT_DRIVE'], dtype=object)"
      ]
     },
     "execution_count": 35,
     "metadata": {},
     "output_type": "execute_result"
    }
   ],
   "source": [
    "X_train[\"transmission_type\"].unique()"
   ]
  },
  {
   "cell_type": "code",
   "execution_count": 36,
   "id": "59992ed1",
   "metadata": {},
   "outputs": [],
   "source": [
    "X_train_drop_year = np.delete(X_train_one_hot, [-1], axis=1)\n",
    "X_train_drop_engine_hp = np.delete(X_train_one_hot, 2, axis=1)\n",
    "X_train_drop_transmission_type = np.delete(X_train_one_hot, range(-18, -23, -1), axis=1)\n",
    "X_train_drop_city_mpg = np.delete(X_train_one_hot, 0, axis=1)"
   ]
  },
  {
   "cell_type": "code",
   "execution_count": 37,
   "id": "458b9126",
   "metadata": {},
   "outputs": [],
   "source": [
    "X_val_drop_year = np.delete(X_val_one_hot, [-1], axis=1)\n",
    "X_val_drop_engine_hp = np.delete(X_val_one_hot, 2, axis=1)\n",
    "X_val_drop_transmission_type = np.delete(X_val_one_hot, range(-18, -23, -1), axis=1)\n",
    "X_val_drop_city_mpg = np.delete(X_val_one_hot, 0, axis=1)"
   ]
  },
  {
   "cell_type": "markdown",
   "id": "fcd8ad75",
   "metadata": {},
   "source": [
    "Dropped `year`"
   ]
  },
  {
   "cell_type": "code",
   "execution_count": 38,
   "id": "c94469c2",
   "metadata": {},
   "outputs": [
    {
     "data": {
      "text/plain": [
       "LogisticRegression(C=10, max_iter=1000, random_state=42, solver='liblinear')"
      ]
     },
     "execution_count": 38,
     "metadata": {},
     "output_type": "execute_result"
    }
   ],
   "source": [
    "model_drop_year = LogisticRegression(solver='liblinear', C=10, max_iter=1000, random_state=42)\n",
    "model_drop_year.fit(X_train_drop_year, y_train)"
   ]
  },
  {
   "cell_type": "code",
   "execution_count": 39,
   "id": "f08f9c13",
   "metadata": {},
   "outputs": [],
   "source": [
    "y_pred_drop_year = model_drop_year.predict(X_val_drop_year)"
   ]
  },
  {
   "cell_type": "code",
   "execution_count": 40,
   "id": "8b0f0b4c",
   "metadata": {},
   "outputs": [
    {
     "data": {
      "text/plain": [
       "0.0016785564414604215"
      ]
     },
     "execution_count": 40,
     "metadata": {},
     "output_type": "execute_result"
    }
   ],
   "source": [
    "abs((y_val == y_pred).mean() - (y_val == y_pred_drop_year).mean())"
   ]
  },
  {
   "cell_type": "markdown",
   "id": "c148c7f9",
   "metadata": {},
   "source": [
    "Dropped `engine_hp`"
   ]
  },
  {
   "cell_type": "code",
   "execution_count": 41,
   "id": "d1f77a5c",
   "metadata": {},
   "outputs": [
    {
     "data": {
      "text/plain": [
       "LogisticRegression(C=10, max_iter=1000, random_state=42, solver='liblinear')"
      ]
     },
     "execution_count": 41,
     "metadata": {},
     "output_type": "execute_result"
    }
   ],
   "source": [
    "model_drop_engine_hp = LogisticRegression(solver='liblinear', C=10, max_iter=1000, random_state=42)\n",
    "model_drop_engine_hp.fit(X_train_drop_engine_hp, y_train)"
   ]
  },
  {
   "cell_type": "code",
   "execution_count": 42,
   "id": "05be17d4",
   "metadata": {},
   "outputs": [],
   "source": [
    "y_pred_drop_engine_hp = model_drop_year.predict(X_val_drop_engine_hp)"
   ]
  },
  {
   "cell_type": "code",
   "execution_count": 43,
   "id": "d9468d60",
   "metadata": {},
   "outputs": [
    {
     "data": {
      "text/plain": [
       "0.22366764582459087"
      ]
     },
     "execution_count": 43,
     "metadata": {},
     "output_type": "execute_result"
    }
   ],
   "source": [
    "abs((y_val == y_pred).mean() - (y_val == y_pred_drop_engine_hp).mean())"
   ]
  },
  {
   "cell_type": "markdown",
   "id": "15e6cfbb",
   "metadata": {},
   "source": [
    "Dropped `transmission_type`"
   ]
  },
  {
   "cell_type": "code",
   "execution_count": 44,
   "id": "b9f4ec66",
   "metadata": {},
   "outputs": [
    {
     "data": {
      "text/plain": [
       "LogisticRegression(C=10, max_iter=1000, random_state=42, solver='liblinear')"
      ]
     },
     "execution_count": 44,
     "metadata": {},
     "output_type": "execute_result"
    }
   ],
   "source": [
    "model_drop_transmission_type = LogisticRegression(solver='liblinear', C=10, max_iter=1000, random_state=42)\n",
    "model_drop_transmission_type.fit(X_train_drop_transmission_type, y_train)"
   ]
  },
  {
   "cell_type": "code",
   "execution_count": 45,
   "id": "fdd7f96b",
   "metadata": {},
   "outputs": [],
   "source": [
    "y_pred_drop_transmission_type = model_drop_transmission_type.predict(X_val_drop_transmission_type)"
   ]
  },
  {
   "cell_type": "code",
   "execution_count": 46,
   "id": "03df763d",
   "metadata": {},
   "outputs": [
    {
     "data": {
      "text/plain": [
       "0.0012589173310951773"
      ]
     },
     "execution_count": 46,
     "metadata": {},
     "output_type": "execute_result"
    }
   ],
   "source": [
    "abs((y_val == y_pred).mean() - (y_val == y_pred_drop_transmission_type).mean())"
   ]
  },
  {
   "cell_type": "markdown",
   "id": "5767261b",
   "metadata": {},
   "source": [
    "Dropped `city_mpg`"
   ]
  },
  {
   "cell_type": "code",
   "execution_count": 47,
   "id": "38207058",
   "metadata": {},
   "outputs": [
    {
     "data": {
      "text/plain": [
       "LogisticRegression(C=10, max_iter=1000, random_state=42, solver='liblinear')"
      ]
     },
     "execution_count": 47,
     "metadata": {},
     "output_type": "execute_result"
    }
   ],
   "source": [
    "model_drop_city_mpg = LogisticRegression(solver='liblinear', C=10, max_iter=1000, random_state=42)\n",
    "model_drop_city_mpg.fit(X_train_drop_city_mpg, y_train)"
   ]
  },
  {
   "cell_type": "code",
   "execution_count": 48,
   "id": "9127cae7",
   "metadata": {},
   "outputs": [],
   "source": [
    "y_pred_drop_city_mpg = model_drop_city_mpg.predict(X_val_drop_city_mpg)"
   ]
  },
  {
   "cell_type": "code",
   "execution_count": 49,
   "id": "7a0d1fb2",
   "metadata": {},
   "outputs": [
    {
     "data": {
      "text/plain": [
       "0.0004196391103650221"
      ]
     },
     "execution_count": 49,
     "metadata": {},
     "output_type": "execute_result"
    }
   ],
   "source": [
    "abs((y_val == y_pred).mean() - (y_val == y_pred_drop_city_mpg).mean())"
   ]
  },
  {
   "cell_type": "markdown",
   "id": "b88aafd2",
   "metadata": {},
   "source": [
    "`city_mpg` smallest difference"
   ]
  },
  {
   "cell_type": "markdown",
   "id": "fbbe3db6",
   "metadata": {},
   "source": [
    "## Question 6\n",
    "Which of these alphas leads to the best RMSE on the validation set?"
   ]
  },
  {
   "cell_type": "code",
   "execution_count": 50,
   "id": "937bbd11",
   "metadata": {},
   "outputs": [],
   "source": [
    "from sklearn.linear_model import Ridge\n",
    "from sklearn.metrics import mean_squared_error"
   ]
  },
  {
   "cell_type": "code",
   "execution_count": 51,
   "id": "060bbdc2",
   "metadata": {},
   "outputs": [
    {
     "data": {
      "text/html": [
       "<div>\n",
       "<style scoped>\n",
       "    .dataframe tbody tr th:only-of-type {\n",
       "        vertical-align: middle;\n",
       "    }\n",
       "\n",
       "    .dataframe tbody tr th {\n",
       "        vertical-align: top;\n",
       "    }\n",
       "\n",
       "    .dataframe thead th {\n",
       "        text-align: right;\n",
       "    }\n",
       "</style>\n",
       "<table border=\"1\" class=\"dataframe\">\n",
       "  <thead>\n",
       "    <tr style=\"text-align: right;\">\n",
       "      <th></th>\n",
       "      <th>make</th>\n",
       "      <th>model</th>\n",
       "      <th>year</th>\n",
       "      <th>engine_hp</th>\n",
       "      <th>engine_cylinders</th>\n",
       "      <th>transmission_type</th>\n",
       "      <th>vehicle_style</th>\n",
       "      <th>highway_mpg</th>\n",
       "      <th>city_mpg</th>\n",
       "      <th>price</th>\n",
       "    </tr>\n",
       "  </thead>\n",
       "  <tbody>\n",
       "    <tr>\n",
       "      <th>0</th>\n",
       "      <td>BMW</td>\n",
       "      <td>1 Series M</td>\n",
       "      <td>2011</td>\n",
       "      <td>335.0</td>\n",
       "      <td>6.0</td>\n",
       "      <td>MANUAL</td>\n",
       "      <td>Coupe</td>\n",
       "      <td>26</td>\n",
       "      <td>19</td>\n",
       "      <td>46135</td>\n",
       "    </tr>\n",
       "    <tr>\n",
       "      <th>1</th>\n",
       "      <td>BMW</td>\n",
       "      <td>1 Series</td>\n",
       "      <td>2011</td>\n",
       "      <td>300.0</td>\n",
       "      <td>6.0</td>\n",
       "      <td>MANUAL</td>\n",
       "      <td>Convertible</td>\n",
       "      <td>28</td>\n",
       "      <td>19</td>\n",
       "      <td>40650</td>\n",
       "    </tr>\n",
       "    <tr>\n",
       "      <th>2</th>\n",
       "      <td>BMW</td>\n",
       "      <td>1 Series</td>\n",
       "      <td>2011</td>\n",
       "      <td>300.0</td>\n",
       "      <td>6.0</td>\n",
       "      <td>MANUAL</td>\n",
       "      <td>Coupe</td>\n",
       "      <td>28</td>\n",
       "      <td>20</td>\n",
       "      <td>36350</td>\n",
       "    </tr>\n",
       "    <tr>\n",
       "      <th>3</th>\n",
       "      <td>BMW</td>\n",
       "      <td>1 Series</td>\n",
       "      <td>2011</td>\n",
       "      <td>230.0</td>\n",
       "      <td>6.0</td>\n",
       "      <td>MANUAL</td>\n",
       "      <td>Coupe</td>\n",
       "      <td>28</td>\n",
       "      <td>18</td>\n",
       "      <td>29450</td>\n",
       "    </tr>\n",
       "    <tr>\n",
       "      <th>4</th>\n",
       "      <td>BMW</td>\n",
       "      <td>1 Series</td>\n",
       "      <td>2011</td>\n",
       "      <td>230.0</td>\n",
       "      <td>6.0</td>\n",
       "      <td>MANUAL</td>\n",
       "      <td>Convertible</td>\n",
       "      <td>28</td>\n",
       "      <td>18</td>\n",
       "      <td>34500</td>\n",
       "    </tr>\n",
       "    <tr>\n",
       "      <th>...</th>\n",
       "      <td>...</td>\n",
       "      <td>...</td>\n",
       "      <td>...</td>\n",
       "      <td>...</td>\n",
       "      <td>...</td>\n",
       "      <td>...</td>\n",
       "      <td>...</td>\n",
       "      <td>...</td>\n",
       "      <td>...</td>\n",
       "      <td>...</td>\n",
       "    </tr>\n",
       "    <tr>\n",
       "      <th>11909</th>\n",
       "      <td>Acura</td>\n",
       "      <td>ZDX</td>\n",
       "      <td>2012</td>\n",
       "      <td>300.0</td>\n",
       "      <td>6.0</td>\n",
       "      <td>AUTOMATIC</td>\n",
       "      <td>4dr Hatchback</td>\n",
       "      <td>23</td>\n",
       "      <td>16</td>\n",
       "      <td>46120</td>\n",
       "    </tr>\n",
       "    <tr>\n",
       "      <th>11910</th>\n",
       "      <td>Acura</td>\n",
       "      <td>ZDX</td>\n",
       "      <td>2012</td>\n",
       "      <td>300.0</td>\n",
       "      <td>6.0</td>\n",
       "      <td>AUTOMATIC</td>\n",
       "      <td>4dr Hatchback</td>\n",
       "      <td>23</td>\n",
       "      <td>16</td>\n",
       "      <td>56670</td>\n",
       "    </tr>\n",
       "    <tr>\n",
       "      <th>11911</th>\n",
       "      <td>Acura</td>\n",
       "      <td>ZDX</td>\n",
       "      <td>2012</td>\n",
       "      <td>300.0</td>\n",
       "      <td>6.0</td>\n",
       "      <td>AUTOMATIC</td>\n",
       "      <td>4dr Hatchback</td>\n",
       "      <td>23</td>\n",
       "      <td>16</td>\n",
       "      <td>50620</td>\n",
       "    </tr>\n",
       "    <tr>\n",
       "      <th>11912</th>\n",
       "      <td>Acura</td>\n",
       "      <td>ZDX</td>\n",
       "      <td>2013</td>\n",
       "      <td>300.0</td>\n",
       "      <td>6.0</td>\n",
       "      <td>AUTOMATIC</td>\n",
       "      <td>4dr Hatchback</td>\n",
       "      <td>23</td>\n",
       "      <td>16</td>\n",
       "      <td>50920</td>\n",
       "    </tr>\n",
       "    <tr>\n",
       "      <th>11913</th>\n",
       "      <td>Lincoln</td>\n",
       "      <td>Zephyr</td>\n",
       "      <td>2006</td>\n",
       "      <td>221.0</td>\n",
       "      <td>6.0</td>\n",
       "      <td>AUTOMATIC</td>\n",
       "      <td>Sedan</td>\n",
       "      <td>26</td>\n",
       "      <td>17</td>\n",
       "      <td>28995</td>\n",
       "    </tr>\n",
       "  </tbody>\n",
       "</table>\n",
       "<p>11914 rows × 10 columns</p>\n",
       "</div>"
      ],
      "text/plain": [
       "          make       model  year  engine_hp  engine_cylinders  \\\n",
       "0          BMW  1 Series M  2011      335.0               6.0   \n",
       "1          BMW    1 Series  2011      300.0               6.0   \n",
       "2          BMW    1 Series  2011      300.0               6.0   \n",
       "3          BMW    1 Series  2011      230.0               6.0   \n",
       "4          BMW    1 Series  2011      230.0               6.0   \n",
       "...        ...         ...   ...        ...               ...   \n",
       "11909    Acura         ZDX  2012      300.0               6.0   \n",
       "11910    Acura         ZDX  2012      300.0               6.0   \n",
       "11911    Acura         ZDX  2012      300.0               6.0   \n",
       "11912    Acura         ZDX  2013      300.0               6.0   \n",
       "11913  Lincoln      Zephyr  2006      221.0               6.0   \n",
       "\n",
       "      transmission_type  vehicle_style  highway_mpg  city_mpg  price  \n",
       "0                MANUAL          Coupe           26        19  46135  \n",
       "1                MANUAL    Convertible           28        19  40650  \n",
       "2                MANUAL          Coupe           28        20  36350  \n",
       "3                MANUAL          Coupe           28        18  29450  \n",
       "4                MANUAL    Convertible           28        18  34500  \n",
       "...                 ...            ...          ...       ...    ...  \n",
       "11909         AUTOMATIC  4dr Hatchback           23        16  46120  \n",
       "11910         AUTOMATIC  4dr Hatchback           23        16  56670  \n",
       "11911         AUTOMATIC  4dr Hatchback           23        16  50620  \n",
       "11912         AUTOMATIC  4dr Hatchback           23        16  50920  \n",
       "11913         AUTOMATIC          Sedan           26        17  28995  \n",
       "\n",
       "[11914 rows x 10 columns]"
      ]
     },
     "execution_count": 51,
     "metadata": {},
     "output_type": "execute_result"
    }
   ],
   "source": [
    "df = pd.read_csv(\"https://raw.githubusercontent.com/alexeygrigorev/mlbookcamp-code/master/chapter-02-car-price/data.csv\")\n",
    "df = df[['Make', 'Model', 'Year', 'Engine HP', 'Engine Cylinders', 'Transmission Type', 'Vehicle Style',\n",
    "           'highway MPG', 'city mpg', 'MSRP']]\n",
    "df.columns = df.columns.str.replace(' ', '_').str.lower()\n",
    "df = df.fillna(0)\n",
    "df.rename(columns={'msrp': 'price'}, inplace=True)\n",
    "df"
   ]
  },
  {
   "cell_type": "code",
   "execution_count": 52,
   "id": "6a350ff5",
   "metadata": {},
   "outputs": [],
   "source": [
    "X, y = df[df.columns[0:-1]], df[\"price\"]"
   ]
  },
  {
   "cell_type": "code",
   "execution_count": 53,
   "id": "11e645a2",
   "metadata": {},
   "outputs": [],
   "source": [
    "X_full, X_test, y_full, y_test = train_test_split(X, y, test_size=0.2 , random_state=42)"
   ]
  },
  {
   "cell_type": "code",
   "execution_count": 54,
   "id": "b9ade335",
   "metadata": {},
   "outputs": [],
   "source": [
    "X_train, X_val, y_train, y_val = train_test_split(X_full, y_full, test_size=0.25, random_state=42)"
   ]
  },
  {
   "cell_type": "code",
   "execution_count": 55,
   "id": "dd4742d6",
   "metadata": {},
   "outputs": [],
   "source": [
    "X_train = X_train.reset_index(drop=True)\n",
    "X_val = X_val.reset_index(drop=True)\n",
    "X_test = X_test.reset_index(drop=True)\n",
    "\n",
    "y_train = y_train.reset_index(drop=True)\n",
    "y_val = y_val.reset_index(drop=True)\n",
    "y_test = y_test.reset_index(drop=True)"
   ]
  },
  {
   "cell_type": "code",
   "execution_count": 56,
   "id": "d52c3956",
   "metadata": {},
   "outputs": [],
   "source": [
    "y_train_scaled = np.log1p(y_train)\n",
    "y_val_scaled = np.log1p(y_val)\n",
    "y_test_scaled = np.log1p(y_test)"
   ]
  },
  {
   "cell_type": "code",
   "execution_count": 57,
   "id": "49735d77",
   "metadata": {},
   "outputs": [],
   "source": [
    "train_dicts = X_train.to_dict(orient=\"records\")"
   ]
  },
  {
   "cell_type": "code",
   "execution_count": 58,
   "id": "f97d8576",
   "metadata": {},
   "outputs": [],
   "source": [
    "dv = DictVectorizer(sparse=False)"
   ]
  },
  {
   "cell_type": "code",
   "execution_count": 59,
   "id": "1ec9ef08",
   "metadata": {},
   "outputs": [],
   "source": [
    "X_train_one_hot = dv.fit_transform(train_dicts)"
   ]
  },
  {
   "cell_type": "code",
   "execution_count": 60,
   "id": "29149768",
   "metadata": {},
   "outputs": [],
   "source": [
    "val_dicts = X_val.to_dict(orient=\"records\")"
   ]
  },
  {
   "cell_type": "code",
   "execution_count": 61,
   "id": "4813b13a",
   "metadata": {},
   "outputs": [],
   "source": [
    "X_val_one_hot = dv.transform(val_dicts)"
   ]
  },
  {
   "cell_type": "code",
   "execution_count": 62,
   "id": "9f7619b9",
   "metadata": {},
   "outputs": [
    {
     "name": "stdout",
     "output_type": "stream",
     "text": [
      "RMSE when alpha = 0 is 50682.33968594183\n",
      "RMSE when alpha = 0.01 is 50682.353049842546\n",
      "RMSE when alpha = 0.1 is 50682.47332041266\n",
      "RMSE when alpha = 1 is 50683.67563373994\n",
      "RMSE when alpha = 10 is 50700.18037935538\n"
     ]
    }
   ],
   "source": [
    "alphas = [0, 0.01, 0.1, 1, 10]\n",
    "\n",
    "for alpha in alphas:\n",
    "    model_Ridge = Ridge(alpha=alpha, solver=\"sag\", random_state=42)\n",
    "    model_Ridge.fit(X_train_one_hot, y_train_scaled.values.reshape(-1,1))\n",
    "    y_pred = model_Ridge.predict(X_val_one_hot)\n",
    "    y_pred = np.expm1(y_pred)\n",
    "    print(f\"RMSE when alpha = {alpha} is\", mean_squared_error(y_val, y_pred, squared=False))"
   ]
  },
  {
   "cell_type": "code",
   "execution_count": null,
   "id": "6a601d95",
   "metadata": {},
   "outputs": [],
   "source": []
  }
 ],
 "metadata": {
  "kernelspec": {
   "display_name": "Python 3 (ipykernel)",
   "language": "python",
   "name": "python3"
  },
  "language_info": {
   "codemirror_mode": {
    "name": "ipython",
    "version": 3
   },
   "file_extension": ".py",
   "mimetype": "text/x-python",
   "name": "python",
   "nbconvert_exporter": "python",
   "pygments_lexer": "ipython3",
   "version": "3.8.16"
  }
 },
 "nbformat": 4,
 "nbformat_minor": 5
}
