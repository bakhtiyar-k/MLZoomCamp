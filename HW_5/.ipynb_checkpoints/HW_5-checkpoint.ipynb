{
 "cells": [
  {
   "cell_type": "markdown",
   "id": "18c57e3d",
   "metadata": {},
   "source": [
    "I could not make pipenv work on my Windows PC, therefore switched to Poetry "
   ]
  },
  {
   "cell_type": "code",
   "execution_count": 1,
   "id": "58fee91d",
   "metadata": {},
   "outputs": [],
   "source": [
    "import pandas as pd\n",
    "import numpy as np\n",
    "import pickle\n",
    "import requests"
   ]
  },
  {
   "cell_type": "markdown",
   "id": "e7a89527",
   "metadata": {},
   "source": [
    "## Question 1"
   ]
  },
  {
   "cell_type": "code",
   "execution_count": 2,
   "id": "1646ab87",
   "metadata": {
    "scrolled": true
   },
   "outputs": [
    {
     "name": "stdout",
     "output_type": "stream",
     "text": [
      "Poetry (version 1.6.1)\n"
     ]
    }
   ],
   "source": [
    "!poetry --version"
   ]
  },
  {
   "cell_type": "markdown",
   "id": "8a824bdb",
   "metadata": {},
   "source": [
    "## Question 2"
   ]
  },
  {
   "cell_type": "code",
   "execution_count": 3,
   "id": "ac9face1",
   "metadata": {
    "scrolled": true
   },
   "outputs": [
    {
     "name": "stdout",
     "output_type": "stream",
     "text": [
      "\n",
      "Updating dependencies\n",
      "Resolving dependencies...\n",
      "\n",
      "No dependencies to install or update\n"
     ]
    }
   ],
   "source": [
    "!poetry add scikit-learn==1.3.1"
   ]
  },
  {
   "cell_type": "code",
   "execution_count": 4,
   "id": "288fe1b3",
   "metadata": {},
   "outputs": [
    {
     "name": "stdout",
     "output_type": "stream",
     "text": [
      "sha256:1a231cced3ee3fa04756b4a7ab532dc9417acd581a330adff5f2c01ac2831fcf\n"
     ]
    }
   ],
   "source": [
    "first_hash = \"sha256:1a231cced3ee3fa04756b4a7ab532dc9417acd581a330adff5f2c01ac2831fcf\"\n",
    "print(first_hash)"
   ]
  },
  {
   "cell_type": "code",
   "execution_count": 5,
   "id": "cea7c82a",
   "metadata": {},
   "outputs": [],
   "source": [
    "with open(\"model1.bin\", \"rb\") as f_model:\n",
    "    model = pickle.load(f_model)"
   ]
  },
  {
   "cell_type": "code",
   "execution_count": 6,
   "id": "999d76ce",
   "metadata": {},
   "outputs": [],
   "source": [
    "with open(\"dv.bin\", \"rb\") as f_dv:\n",
    "    dv = pickle.load(f_dv)"
   ]
  },
  {
   "cell_type": "markdown",
   "id": "81ae862f",
   "metadata": {},
   "source": [
    "## Question 3 "
   ]
  },
  {
   "cell_type": "code",
   "execution_count": 7,
   "id": "1d2c4d21",
   "metadata": {},
   "outputs": [],
   "source": [
    "client = {\"job\": \"retired\", \"duration\": 445, \"poutcome\": \"success\"}"
   ]
  },
  {
   "cell_type": "code",
   "execution_count": 8,
   "id": "f2f6e4de",
   "metadata": {},
   "outputs": [],
   "source": [
    "X = dv.transform(client)"
   ]
  },
  {
   "cell_type": "code",
   "execution_count": 9,
   "id": "c7de15c1",
   "metadata": {},
   "outputs": [
    {
     "data": {
      "text/plain": [
       "array([[445.,   0.,   0.,   0.,   0.,   0.,   1.,   0.,   0.,   0.,   0.,\n",
       "          0.,   0.,   0.,   0.,   1.,   0.]])"
      ]
     },
     "execution_count": 9,
     "metadata": {},
     "output_type": "execute_result"
    }
   ],
   "source": [
    "X"
   ]
  },
  {
   "cell_type": "code",
   "execution_count": 13,
   "id": "579b5c6a",
   "metadata": {},
   "outputs": [
    {
     "data": {
      "text/plain": [
       "0.9019309332297606"
      ]
     },
     "execution_count": 13,
     "metadata": {},
     "output_type": "execute_result"
    }
   ],
   "source": [
    "model.predict_proba(X)[0, 1]"
   ]
  },
  {
   "cell_type": "markdown",
   "id": "6402a54e",
   "metadata": {},
   "source": [
    "## Question  4"
   ]
  },
  {
   "cell_type": "code",
   "execution_count": 2,
   "id": "d6b3e997",
   "metadata": {},
   "outputs": [
    {
     "data": {
      "text/plain": [
       "{'probability of getting a credit': 0.13968947052356817}"
      ]
     },
     "execution_count": 2,
     "metadata": {},
     "output_type": "execute_result"
    }
   ],
   "source": [
    "url = \"http://localhost:9696/predict_credit_model1\"\n",
    "client = {\"job\": \"unknown\", \"duration\": 270, \"poutcome\": \"failure\"}\n",
    "requests.post(url, json=client).json()"
   ]
  },
  {
   "cell_type": "markdown",
   "id": "542f9bf5",
   "metadata": {},
   "source": [
    "## Question 5"
   ]
  },
  {
   "cell_type": "markdown",
   "id": "4905be5c",
   "metadata": {},
   "source": [
    "147 MB"
   ]
  },
  {
   "cell_type": "markdown",
   "id": "0dd4ea12",
   "metadata": {},
   "source": [
    "## Question 6"
   ]
  },
  {
   "cell_type": "code",
   "execution_count": 4,
   "id": "17ce5eee",
   "metadata": {},
   "outputs": [
    {
     "data": {
      "text/plain": [
       "{'probability of getting a credit': 0.726936946355423}"
      ]
     },
     "execution_count": 4,
     "metadata": {},
     "output_type": "execute_result"
    }
   ],
   "source": [
    "url = \"http://localhost:9696/predict_credit_model2\"\n",
    "client = {\"job\": \"retired\", \"duration\": 445, \"poutcome\": \"success\"}\n",
    "requests.post(url, json=client).json()"
   ]
  }
 ],
 "metadata": {
  "kernelspec": {
   "display_name": "Python 3 (ipykernel)",
   "language": "python",
   "name": "python3"
  },
  "language_info": {
   "codemirror_mode": {
    "name": "ipython",
    "version": 3
   },
   "file_extension": ".py",
   "mimetype": "text/x-python",
   "name": "python",
   "nbconvert_exporter": "python",
   "pygments_lexer": "ipython3",
   "version": "3.11.5"
  }
 },
 "nbformat": 4,
 "nbformat_minor": 5
}
